{
 "cells": [
  {
   "cell_type": "code",
   "execution_count": 1,
   "metadata": {},
   "outputs": [
    {
     "name": "stderr",
     "output_type": "stream",
     "text": [
      "[nltk_data] Downloading package stopwords to /Users/gyul/nltk_data...\n",
      "[nltk_data]   Package stopwords is already up-to-date!\n"
     ]
    },
    {
     "data": {
      "text/plain": [
       "True"
      ]
     },
     "execution_count": 1,
     "metadata": {},
     "output_type": "execute_result"
    }
   ],
   "source": [
    "# Run in python console\n",
    "# nltk for removing stopwords\n",
    "import nltk\n",
    "nltk.download('stopwords')"
   ]
  },
  {
   "cell_type": "code",
   "execution_count": 2,
   "metadata": {},
   "outputs": [],
   "source": [
    "import re\n",
    "import numpy as np\n",
    "import pandas as pd\n",
    "from pprint import pprint"
   ]
  },
  {
   "cell_type": "code",
   "execution_count": 3,
   "metadata": {},
   "outputs": [],
   "source": [
    "# Gensim\n",
    "import gensim\n",
    "import gensim.corpora as corpora\n",
    "from gensim.utils import simple_preprocess\n",
    "from gensim.models import CoherenceModel"
   ]
  },
  {
   "cell_type": "code",
   "execution_count": 4,
   "metadata": {},
   "outputs": [],
   "source": [
    "# spacy for lemmatization\n",
    "import spacy"
   ]
  },
  {
   "cell_type": "code",
   "execution_count": 5,
   "metadata": {},
   "outputs": [],
   "source": [
    "# Plotting tools\n",
    "import pyLDAvis\n",
    "import pyLDAvis.gensim_models as gensimvis  # don't skip this\n",
    "import matplotlib.pyplot as plt\n",
    "%matplotlib inline"
   ]
  },
  {
   "cell_type": "code",
   "execution_count": 6,
   "metadata": {},
   "outputs": [],
   "source": [
    "# Enable logging for gensim - optional\n",
    "import logging\n",
    "logging.basicConfig(format='%(asctime)s : %(levelname)s : %(message)s', level=logging.ERROR)"
   ]
  },
  {
   "cell_type": "code",
   "execution_count": 7,
   "metadata": {},
   "outputs": [],
   "source": [
    "import warnings\n",
    "warnings.filterwarnings(\"ignore\",category=DeprecationWarning)"
   ]
  },
  {
   "cell_type": "code",
   "execution_count": 8,
   "metadata": {},
   "outputs": [],
   "source": [
    "# NLTK Stop words\n",
    "from nltk.corpus import stopwords\n",
    "stop_words = stopwords.words('english')"
   ]
  },
  {
   "cell_type": "code",
   "execution_count": 9,
   "metadata": {},
   "outputs": [],
   "source": [
    "import pandas as pd"
   ]
  },
  {
   "cell_type": "code",
   "execution_count": 10,
   "metadata": {},
   "outputs": [
    {
     "name": "stdout",
     "output_type": "stream",
     "text": [
      "['This is a special book. It started slow for about the first third, then in the middle third it started to get interesting, then the last third blew my mind. This is what I love about good science fiction - it pushes your thinking about where things can go. \\n It is a 2015 Hugo winner, and translated from its original Chinese, which made it interesting in just a different way from most things I\\'ve read. For instance the intermixing of Chinese revolutionary history - how they kept accusing people of being \"reactionaries\", etc. \\n It is a book about science, and aliens. The science described in the book is impressive - its a book grounded in physics and pretty accurate as far as I could tell. Though when it got to folding protons into 8 dimensions I think he was just making stuff up - interesting to think about though. \\n But what would happen if our SETI stations received a message - if we found someone was out there - and the person monitoring and answering the signal on our side was disillusioned? That part of the book was a bit dark - I would like to think human reaction to discovering alien civilization that is hostile would be more like Enders Game where we would band together. \\n I did like how the book unveiled the Trisolaran culture through the game. It was a smart way to build empathy with them and also understand what they\\'ve gone through across so many centuries. And who know a 3 body problem was an unsolvable math problem? But I still don\\'t get who made the game - maybe that will come in the next book. \\n I loved this quote: \\n \"In the long history of scientific progress, how many protons have been smashed apart in accelerators by physicists? How many neutrons and electrons? Probably no fewer than a hundred million. Every collision was probably the end of the civilizations and intelligences in a microcosmos. In fact, even in nature, the destruction of universes must be happening at every second--for example, through the decay of neutrons. Also, a high-energy cosmic ray entering the atmosphere may destroy thousands of such miniature universes....\"'\n",
      " 'A beautiful story. Neil Gaiman is truly a unique storyteller. I did a combo of reading and listening to this story, and Neil is great at reading as well. I got interested in this book after seeing the movie, which I really enjoyed. The book is similar - maybe a bit more poetic - but I think the plot in the movie is a bit improved (not much, but a bit). \\n I imagine this book came about because Neil read the below poem that he includes in the beginning, and then he invented a plot around it. The result is the book reads like a epic poem - it\\'s creative, magical, and really, just right. \\n Go and catch a falling star, \\n Get with child a mandrake root, \\n Tell me where all past years are, \\n Or who cleft the devil\\'s foot, \\n Teach me to hear mermaids singing, \\n Or to keep off envy\\'s stinging, \\n And find \\n What wind \\n Serves to advance an honest mind. \\n If thou be\\'st born to strange sights, \\n Things invisible to see, \\n Ride ten thousand days and nights, \\n Till age snow white hairs on thee, \\n Thou, when thou return\\'st, wilt tell me, \\n All strange wonders that befell thee, \\n And swear, \\n No where \\n Lives a woman true, and fair. \\n If thou find\\'st one, let me know, \\n Such a pilgrimage were sweet; \\n Yet do not, I would not go, \\n Though at next door we might meet; \\n Though she were true, when you met her, \\n And last, till you write your letter, \\n Yet she \\n Will be \\n False, ere I come, to two, or three. \\n And here is my new favorite quote: \"Have been unavoidably detained by the world. Expect us when you see us.\"'\n",
      " 'Mark Watney is a steely-eyed missile man. A man\\'s man. A badass mechanical engineer botanist astronaut who is stranded on Mars during a Nasa mission gone wrong, and left to fend for himself. I listened to this on audio on a roadtrip, and it flew by - what a fun story. Not surprised at all it\\'s being made into a movie directed by Ridley Scott starring Matt Damon. Also pretty amazing is that it was self-published. \\n There were two great things about this book: the humor and the science. The science appealed to the mechanical engineer in me - Watney is a bit like McGyver except he knows a lot more about chemistry and botany. I didn\\'t double-check all the science, but loved the descriptions of all the math: calorie calculations, creating water, etc. Just fun stuff. \\n But the humor was top notch. Weir does a great job portraying a stranded man trying to remain upbeat by talking to himself in log entries. And the excellent audio narrator only made it better. \\n \"I started the day with some nothin\\' tea. Nothin\\' tea is easy to make. First, get some hot water, then add nothin\\'.\" \\n \"Yes, of course duct tape works in a near-vacuum. Duct tape works anywhere. Duct tape is magic and should be worshiped.\" \\n \"Live Another Sol would be an awesome name for a James Bond movie.\" \\n In the end, a well told story of survival against the odds. And one of belief - I liked the CNN Mark Watney watch - you could totally imagine how into this story the media would get. We humans love a good surviving against the odds story.'\n",
      " ... 'joss'\n",
      " \"I generally liked the book. It had some parts that I felt were obvious but that is to be expected. The book also took many different turns that left me wanting to keep reading. The vampires are not like any other vampire i have ever read (which to be honest isn't a lot) or watched :) \\n I am generally not a fan of vampire stories but this one keeps making me want to read more. I love the whole conspiracy feeling surrounding this book.\"\n",
      " \"I started the first chapter, can't seem to get pass that, some motivation is needed xo \\n I think it an intense and very complex read, at times confusing, but mostly intriguing.......the trend of character relation to Twilight is very much evident. Now all I need to do is watch the movie and compare\"]\n"
     ]
    },
    {
     "data": {
      "text/html": [
       "<div>\n",
       "<style scoped>\n",
       "    .dataframe tbody tr th:only-of-type {\n",
       "        vertical-align: middle;\n",
       "    }\n",
       "\n",
       "    .dataframe tbody tr th {\n",
       "        vertical-align: top;\n",
       "    }\n",
       "\n",
       "    .dataframe thead th {\n",
       "        text-align: right;\n",
       "    }\n",
       "</style>\n",
       "<table border=\"1\" class=\"dataframe\">\n",
       "  <thead>\n",
       "    <tr style=\"text-align: right;\">\n",
       "      <th></th>\n",
       "      <th>user_id</th>\n",
       "      <th>book_id</th>\n",
       "      <th>review_id</th>\n",
       "      <th>rating</th>\n",
       "      <th>review_text</th>\n",
       "      <th>date_added</th>\n",
       "      <th>date_updated</th>\n",
       "      <th>read_at</th>\n",
       "      <th>started_at</th>\n",
       "      <th>n_votes</th>\n",
       "      <th>n_comments</th>\n",
       "    </tr>\n",
       "  </thead>\n",
       "  <tbody>\n",
       "    <tr>\n",
       "      <th>0</th>\n",
       "      <td>8842281e1d1347389f2ab93d60773d4d</td>\n",
       "      <td>18245960</td>\n",
       "      <td>dfdbb7b0eb5a7e4c26d59a937e2e5feb</td>\n",
       "      <td>5</td>\n",
       "      <td>This is a special book. It started slow for ab...</td>\n",
       "      <td>Sun Jul 30 07:44:10 -0700 2017</td>\n",
       "      <td>Wed Aug 30 00:00:26 -0700 2017</td>\n",
       "      <td>Sat Aug 26 12:05:52 -0700 2017</td>\n",
       "      <td>Tue Aug 15 13:23:18 -0700 2017</td>\n",
       "      <td>28</td>\n",
       "      <td>1</td>\n",
       "    </tr>\n",
       "    <tr>\n",
       "      <th>1</th>\n",
       "      <td>8842281e1d1347389f2ab93d60773d4d</td>\n",
       "      <td>5577844</td>\n",
       "      <td>52c8ac49496c153e4a97161e36b2db55</td>\n",
       "      <td>5</td>\n",
       "      <td>A beautiful story. Neil Gaiman is truly a uniq...</td>\n",
       "      <td>Wed Sep 24 09:29:29 -0700 2014</td>\n",
       "      <td>Wed Oct 01 00:31:56 -0700 2014</td>\n",
       "      <td>Tue Sep 30 00:00:00 -0700 2014</td>\n",
       "      <td>Sun Sep 21 00:00:00 -0700 2014</td>\n",
       "      <td>5</td>\n",
       "      <td>1</td>\n",
       "    </tr>\n",
       "    <tr>\n",
       "      <th>2</th>\n",
       "      <td>8842281e1d1347389f2ab93d60773d4d</td>\n",
       "      <td>17315048</td>\n",
       "      <td>885c772fb033b041f42d57cef5be0a43</td>\n",
       "      <td>5</td>\n",
       "      <td>Mark Watney is a steely-eyed missile man. A ma...</td>\n",
       "      <td>Sat Apr 05 09:30:53 -0700 2014</td>\n",
       "      <td>Wed Mar 22 11:33:10 -0700 2017</td>\n",
       "      <td>Mon Aug 25 00:00:00 -0700 2014</td>\n",
       "      <td>Sat Aug 16 00:00:00 -0700 2014</td>\n",
       "      <td>25</td>\n",
       "      <td>5</td>\n",
       "    </tr>\n",
       "    <tr>\n",
       "      <th>3</th>\n",
       "      <td>8842281e1d1347389f2ab93d60773d4d</td>\n",
       "      <td>13453029</td>\n",
       "      <td>46a6e1a14e8afc82d221fec0a2bd3dd0</td>\n",
       "      <td>4</td>\n",
       "      <td>A fun fast paced book that sucks you in right ...</td>\n",
       "      <td>Tue Dec 04 11:12:22 -0800 2012</td>\n",
       "      <td>Sat Jul 26 11:43:28 -0700 2014</td>\n",
       "      <td>Tue Jul 08 00:00:00 -0700 2014</td>\n",
       "      <td>Wed Jul 02 00:00:00 -0700 2014</td>\n",
       "      <td>5</td>\n",
       "      <td>1</td>\n",
       "    </tr>\n",
       "    <tr>\n",
       "      <th>4</th>\n",
       "      <td>8842281e1d1347389f2ab93d60773d4d</td>\n",
       "      <td>13239822</td>\n",
       "      <td>a582bfa8efd69d453a5a21a678046b36</td>\n",
       "      <td>3</td>\n",
       "      <td>This book has a great premise, and is full of ...</td>\n",
       "      <td>Mon Jul 02 16:04:16 -0700 2012</td>\n",
       "      <td>Wed Mar 22 11:32:20 -0700 2017</td>\n",
       "      <td>Wed Aug 15 00:00:00 -0700 2012</td>\n",
       "      <td>Sun Aug 12 00:00:00 -0700 2012</td>\n",
       "      <td>7</td>\n",
       "      <td>0</td>\n",
       "    </tr>\n",
       "  </tbody>\n",
       "</table>\n",
       "</div>"
      ],
      "text/plain": [
       "                            user_id   book_id  \\\n",
       "0  8842281e1d1347389f2ab93d60773d4d  18245960   \n",
       "1  8842281e1d1347389f2ab93d60773d4d   5577844   \n",
       "2  8842281e1d1347389f2ab93d60773d4d  17315048   \n",
       "3  8842281e1d1347389f2ab93d60773d4d  13453029   \n",
       "4  8842281e1d1347389f2ab93d60773d4d  13239822   \n",
       "\n",
       "                          review_id  rating  \\\n",
       "0  dfdbb7b0eb5a7e4c26d59a937e2e5feb       5   \n",
       "1  52c8ac49496c153e4a97161e36b2db55       5   \n",
       "2  885c772fb033b041f42d57cef5be0a43       5   \n",
       "3  46a6e1a14e8afc82d221fec0a2bd3dd0       4   \n",
       "4  a582bfa8efd69d453a5a21a678046b36       3   \n",
       "\n",
       "                                         review_text  \\\n",
       "0  This is a special book. It started slow for ab...   \n",
       "1  A beautiful story. Neil Gaiman is truly a uniq...   \n",
       "2  Mark Watney is a steely-eyed missile man. A ma...   \n",
       "3  A fun fast paced book that sucks you in right ...   \n",
       "4  This book has a great premise, and is full of ...   \n",
       "\n",
       "                       date_added                    date_updated  \\\n",
       "0  Sun Jul 30 07:44:10 -0700 2017  Wed Aug 30 00:00:26 -0700 2017   \n",
       "1  Wed Sep 24 09:29:29 -0700 2014  Wed Oct 01 00:31:56 -0700 2014   \n",
       "2  Sat Apr 05 09:30:53 -0700 2014  Wed Mar 22 11:33:10 -0700 2017   \n",
       "3  Tue Dec 04 11:12:22 -0800 2012  Sat Jul 26 11:43:28 -0700 2014   \n",
       "4  Mon Jul 02 16:04:16 -0700 2012  Wed Mar 22 11:32:20 -0700 2017   \n",
       "\n",
       "                          read_at                      started_at  n_votes  \\\n",
       "0  Sat Aug 26 12:05:52 -0700 2017  Tue Aug 15 13:23:18 -0700 2017       28   \n",
       "1  Tue Sep 30 00:00:00 -0700 2014  Sun Sep 21 00:00:00 -0700 2014        5   \n",
       "2  Mon Aug 25 00:00:00 -0700 2014  Sat Aug 16 00:00:00 -0700 2014       25   \n",
       "3  Tue Jul 08 00:00:00 -0700 2014  Wed Jul 02 00:00:00 -0700 2014        5   \n",
       "4  Wed Aug 15 00:00:00 -0700 2012  Sun Aug 12 00:00:00 -0700 2012        7   \n",
       "\n",
       "   n_comments  \n",
       "0           1  \n",
       "1           1  \n",
       "2           5  \n",
       "3           1  \n",
       "4           0  "
      ]
     },
     "execution_count": 10,
     "metadata": {},
     "output_type": "execute_result"
    }
   ],
   "source": [
    "df = pd.read_json('goodreads_reviews_fantasy_paranormal.json', lines=True)\n",
    "print(df.review_text.unique())\n",
    "df.head()"
   ]
  },
  {
   "cell_type": "code",
   "execution_count": 11,
   "metadata": {},
   "outputs": [
    {
     "name": "stdout",
     "output_type": "stream",
     "text": [
      "['This is a special book. It started slow for about the first third, then in '\n",
      " 'the middle third it started to get interesting, then the last third blew my '\n",
      " 'mind. This is what I love about good science fiction - it pushes your '\n",
      " 'thinking about where things can go. \\n'\n",
      " ' It is a 2015 Hugo winner, and translated from its original Chinese, which '\n",
      " \"made it interesting in just a different way from most things I've read. For \"\n",
      " 'instance the intermixing of Chinese revolutionary history - how they kept '\n",
      " 'accusing people of being \"reactionaries\", etc. \\n'\n",
      " ' It is a book about science, and aliens. The science described in the book '\n",
      " 'is impressive - its a book grounded in physics and pretty accurate as far as '\n",
      " 'I could tell. Though when it got to folding protons into 8 dimensions I '\n",
      " 'think he was just making stuff up - interesting to think about though. \\n'\n",
      " ' But what would happen if our SETI stations received a message - if we found '\n",
      " 'someone was out there - and the person monitoring and answering the signal '\n",
      " 'on our side was disillusioned? That part of the book was a bit dark - I '\n",
      " 'would like to think human reaction to discovering alien civilization that is '\n",
      " 'hostile would be more like Enders Game where we would band together. \\n'\n",
      " ' I did like how the book unveiled the Trisolaran culture through the game. '\n",
      " 'It was a smart way to build empathy with them and also understand what '\n",
      " \"they've gone through across so many centuries. And who know a 3 body problem \"\n",
      " \"was an unsolvable math problem? But I still don't get who made the game - \"\n",
      " 'maybe that will come in the next book. \\n'\n",
      " ' I loved this quote: \\n'\n",
      " ' \"In the long history of scientific progress, how many protons have been '\n",
      " 'smashed apart in accelerators by physicists? How many neutrons and '\n",
      " 'electrons? Probably no fewer than a hundred million. Every collision was '\n",
      " 'probably the end of the civilizations and intelligences in a microcosmos. In '\n",
      " 'fact, even in nature, the destruction of universes must be happening at '\n",
      " 'every second--for example, through the decay of neutrons. Also, a '\n",
      " 'high-energy cosmic ray entering the atmosphere may destroy thousands of such '\n",
      " 'miniature universes....\"']\n"
     ]
    }
   ],
   "source": [
    "# Convert to list\n",
    "data = df.review_text.values.tolist()\n",
    "\n",
    "pprint(data[:1])"
   ]
  },
  {
   "cell_type": "code",
   "execution_count": 12,
   "metadata": {},
   "outputs": [
    {
     "name": "stdout",
     "output_type": "stream",
     "text": [
      "['Even better than the Wattpad original with a more satisfying end than Lanyon usually provides. \\n Now where is Spring?']\n"
     ]
    }
   ],
   "source": [
    "import random\n",
    "\n",
    "# Sample a subset of your data\n",
    "subset_data = random.sample(data, k=10000)  # Adjust the sample size as needed\n",
    "print(subset_data[:1])"
   ]
  },
  {
   "cell_type": "code",
   "execution_count": 13,
   "metadata": {},
   "outputs": [
    {
     "name": "stdout",
     "output_type": "stream",
     "text": [
      "[['even', 'better', 'than', 'the', 'wattpad', 'original', 'with', 'more', 'satisfying', 'end', 'than', 'lanyon', 'usually', 'provides', 'now', 'where', 'is', 'spring']]\n"
     ]
    }
   ],
   "source": [
    "def sent_to_words(sentences):\n",
    "    for sentence in sentences:\n",
    "        yield(gensim.utils.simple_preprocess(str(sentence), deacc=True))  # deacc=True removes punctuations\n",
    "\n",
    "data_words = list(sent_to_words(subset_data))\n",
    "\n",
    "print(data_words[:1])"
   ]
  },
  {
   "cell_type": "code",
   "execution_count": 14,
   "metadata": {},
   "outputs": [
    {
     "name": "stdout",
     "output_type": "stream",
     "text": [
      "['even', 'better_than', 'the', 'wattpad', 'original', 'with', 'more', 'satisfying', 'end', 'than', 'lanyon', 'usually', 'provides', 'now', 'where', 'is', 'spring']\n"
     ]
    }
   ],
   "source": [
    "# Build the bigram and trigram models\n",
    "bigram = gensim.models.Phrases(data_words, min_count=2, threshold=50) # higher threshold fewer phrases.\n",
    "trigram = gensim.models.Phrases(bigram[data_words], threshold=50)  \n",
    "\n",
    "# Faster way to get a sentence clubbed as a trigram/bigram\n",
    "bigram_mod = gensim.models.phrases.Phraser(bigram)\n",
    "trigram_mod = gensim.models.phrases.Phraser(trigram)\n",
    "\n",
    "# See trigram example\n",
    "print(trigram_mod[bigram_mod[data_words[0]]])"
   ]
  },
  {
   "cell_type": "code",
   "execution_count": 15,
   "metadata": {},
   "outputs": [],
   "source": [
    "# Define functions for stopwords, bigrams, trigrams and lemmatization\n",
    "def remove_stopwords(texts):\n",
    "    return [[word for word in simple_preprocess(str(doc)) if word not in stop_words] for doc in texts]\n",
    "\n",
    "def make_bigrams(texts):\n",
    "    return [bigram_mod[doc] for doc in texts]\n",
    "\n",
    "def make_trigrams(texts):\n",
    "    return [trigram_mod[bigram_mod[doc]] for doc in texts]\n",
    "\n",
    "def lemmatization(texts, allowed_postags=['NOUN', 'ADJ', 'VERB', 'ADV']):\n",
    "    \"\"\"https://spacy.io/api/annotation\"\"\"\n",
    "    texts_out = []\n",
    "    for sent in texts:\n",
    "        doc = nlp(\" \".join(sent)) \n",
    "        texts_out.append([token.lemma_ for token in doc if token.pos_ in allowed_postags])\n",
    "    return texts_out"
   ]
  },
  {
   "cell_type": "code",
   "execution_count": 16,
   "metadata": {},
   "outputs": [
    {
     "name": "stdout",
     "output_type": "stream",
     "text": [
      "[['even', 'well', 'wattpad', 'original', 'satisfying', 'end', 'lanyon', 'usually', 'provide', 'spring']]\n"
     ]
    }
   ],
   "source": [
    "# Remove Stop Words\n",
    "data_words_nostops = remove_stopwords(data_words)\n",
    "\n",
    "# Form Bigrams\n",
    "data_words_bigrams = make_bigrams(data_words_nostops)\n",
    "\n",
    "# Initialize spacy 'en_core_web_sm' model, keeping only tagger component (for efficiency)\n",
    "# python3 -m spacy download en\n",
    "nlp = spacy.load('en_core_web_sm', disable=['parser', 'ner'])\n",
    "\n",
    "# Do lemmatization keeping only noun, adj, vb, adv\n",
    "data_lemmatized = lemmatization(data_words_bigrams, allowed_postags=['NOUN', 'ADJ', 'VERB', 'ADV'])\n",
    "\n",
    "print(data_lemmatized[:1])"
   ]
  },
  {
   "cell_type": "code",
   "execution_count": 17,
   "metadata": {},
   "outputs": [
    {
     "name": "stdout",
     "output_type": "stream",
     "text": [
      "[[(0, 1), (1, 1), (2, 1), (3, 1), (4, 1), (5, 1), (6, 1), (7, 1), (8, 1), (9, 1)]]\n"
     ]
    }
   ],
   "source": [
    "# Create Dictionary\n",
    "id2word = corpora.Dictionary(data_lemmatized)\n",
    "\n",
    "# Create Corpus\n",
    "texts = data_lemmatized\n",
    "\n",
    "# Term Document Frequency\n",
    "corpus = [id2word.doc2bow(text) for text in texts]\n",
    "\n",
    "# View\n",
    "print(corpus[:1])"
   ]
  },
  {
   "cell_type": "code",
   "execution_count": 18,
   "metadata": {},
   "outputs": [
    {
     "data": {
      "text/plain": [
       "[[('end', 1),\n",
       "  ('even', 1),\n",
       "  ('lanyon', 1),\n",
       "  ('original', 1),\n",
       "  ('provide', 1),\n",
       "  ('satisfying', 1),\n",
       "  ('spring', 1),\n",
       "  ('usually', 1),\n",
       "  ('wattpad', 1),\n",
       "  ('well', 1)]]"
      ]
     },
     "execution_count": 18,
     "metadata": {},
     "output_type": "execute_result"
    }
   ],
   "source": [
    "# Human readable format of corpus (term-frequency)\n",
    "[[(id2word[id], freq) for id, freq in cp] for cp in corpus[:1]]"
   ]
  },
  {
   "cell_type": "code",
   "execution_count": 19,
   "metadata": {},
   "outputs": [],
   "source": [
    "# Build LDA model\n",
    "lda_model = gensim.models.ldamodel.LdaModel(corpus=corpus,\n",
    "                                           id2word=id2word,\n",
    "                                           num_topics=20, \n",
    "                                           random_state=100,\n",
    "                                           update_every=1,\n",
    "                                           chunksize=100,\n",
    "                                           passes=10,\n",
    "                                           alpha='auto',\n",
    "                                           per_word_topics=True)"
   ]
  },
  {
   "cell_type": "code",
   "execution_count": 20,
   "metadata": {},
   "outputs": [
    {
     "name": "stdout",
     "output_type": "stream",
     "text": [
      "[(0,\n",
      "  '0.077*\"story\" + 0.026*\"world\" + 0.017*\"author\" + 0.016*\"new\" + '\n",
      "  '0.015*\"novel\" + 0.014*\"character\" + 0.013*\"fantasy\" + 0.012*\"work\" + '\n",
      "  '0.011*\"set\" + 0.011*\"reader\"'),\n",
      " (1,\n",
      "  '0.079*\"description\" + 0.065*\"world_builde\" + 0.065*\"pull\" + 0.063*\"race\" + '\n",
      "  '0.062*\"check\" + 0.057*\"free\" + 0.052*\"slowly\" + 0.033*\"confuse\" + '\n",
      "  '0.023*\"post\" + 0.022*\"science_fiction\"'),\n",
      " (2,\n",
      "  '0.079*\"level\" + 0.058*\"introduction\" + 0.031*\"deeply\" + 0.030*\"equally\" + '\n",
      "  '0.030*\"wonderfully\" + 0.029*\"audio\" + 0.024*\"flawed\" + 0.024*\"substance\" + '\n",
      "  '0.021*\"craft\" + 0.016*\"shake\"'),\n",
      " (3,\n",
      "  '0.021*\"find\" + 0.018*\"take\" + 0.018*\"life\" + 0.015*\"people\" + 0.013*\"leave\" '\n",
      "  '+ 0.013*\"go\" + 0.012*\"try\" + 0.012*\"help\" + 0.011*\"begin\" + 0.011*\"become\"'),\n",
      " (4,\n",
      "  '0.000*\"sofrer\" + 0.000*\"tivesse\" + 0.000*\"pareceu\" + 0.000*\"provavelmente\" '\n",
      "  '+ 0.000*\"quisesse\" + 0.000*\"resenha\" + 0.000*\"leitura\" + 0.000*\"inert\" + '\n",
      "  '0.000*\"verdade\" + 0.000*\"destino\"'),\n",
      " (5,\n",
      "  '0.051*\"wonder\" + 0.044*\"consider\" + 0.040*\"com\" + 0.039*\"provide\" + '\n",
      "  '0.039*\"emotion\" + 0.037*\"sad\" + 0.026*\"perspective\" + 0.025*\"clearly\" + '\n",
      "  '0.024*\"intense\" + 0.024*\"god\"'),\n",
      " (6,\n",
      "  '0.061*\"least\" + 0.044*\"sequel\" + 0.033*\"fire\" + 0.030*\"tear\" + '\n",
      "  '0.029*\"slightly\" + 0.022*\"glass\" + 0.021*\"truth\" + 0.020*\"drag\" + '\n",
      "  '0.018*\"somehow\" + 0.018*\"pain\"'),\n",
      " (7,\n",
      "  '0.041*\"funny\" + 0.036*\"absolutely\" + 0.036*\"perhaps\" + 0.031*\"battle\" + '\n",
      "  '0.030*\"enjoyable\" + 0.028*\"mate\" + 0.027*\"home\" + 0.027*\"king\" + '\n",
      "  '0.027*\"father\" + 0.026*\"cool\"'),\n",
      " (8,\n",
      "  '0.077*\"die\" + 0.058*\"stuff\" + 0.045*\"humor\" + 0.042*\"angel\" + '\n",
      "  '0.040*\"boring\" + 0.039*\"und\" + 0.026*\"color\" + 0.024*\"interaction\" + '\n",
      "  '0.020*\"myth\" + 0.020*\"witty\"'),\n",
      " (9,\n",
      "  '0.077*\"mission\" + 0.051*\"best_friend\" + 0.033*\"rip\" + 0.030*\"dear\" + '\n",
      "  '0.026*\"servant\" + 0.009*\"slave\" + 0.000*\"tease\" + 0.000*\"novella\" + '\n",
      "  '0.000*\"prove\" + 0.000*\"party\"'),\n",
      " (10,\n",
      "  '0.103*\"hero\" + 0.092*\"chance\" + 0.043*\"trope\" + 0.042*\"edge\" + '\n",
      "  '0.034*\"deliver\" + 0.028*\"secondary_character\" + 0.020*\"historical\" + '\n",
      "  '0.019*\"stage\" + 0.018*\"factor\" + 0.016*\"obsess\"'),\n",
      " (11,\n",
      "  '0.040*\"cass\" + 0.039*\"bored\" + 0.036*\"gasp\" + 0.022*\"page_turner\" + '\n",
      "  '0.011*\"folk\" + 0.006*\"imprint\" + 0.000*\"omega\" + 0.000*\"alpha\" + '\n",
      "  '0.000*\"twin\" + 0.000*\"council\"'),\n",
      " (12,\n",
      "  '0.165*\"hand\" + 0.145*\"movie\" + 0.036*\"confusing\" + 0.022*\"illustration\" + '\n",
      "  '0.009*\"kudo\" + 0.003*\"darker\" + 0.000*\"hobbit\" + 0.000*\"son\" + '\n",
      "  '0.000*\"close\" + 0.000*\"exciting\"'),\n",
      " (13,\n",
      "  '0.058*\"loud\" + 0.056*\"willing\" + 0.037*\"genius\" + 0.028*\"enhance\" + '\n",
      "  '0.020*\"darrow\" + 0.020*\"screen\" + 0.018*\"absolute\" + 0.000*\"morning_star\" + '\n",
      "  '0.000*\"brother\" + 0.000*\"yulric\"'),\n",
      " (14,\n",
      "  '0.095*\"book\" + 0.046*\"read\" + 0.030*\"love\" + 0.029*\"get\" + 0.027*\"really\" + '\n",
      "  '0.024*\"character\" + 0.020*\"series\" + 0.019*\"good\" + 0.019*\"feel\" + '\n",
      "  '0.018*\"think\"'),\n",
      " (15,\n",
      "  '0.095*\"connect\" + 0.047*\"saga\" + 0.034*\"average\" + 0.033*\"narration\" + '\n",
      "  '0.009*\"frustrated\" + 0.000*\"pero\" + 0.000*\"ellie\" + 0.000*\"house\" + '\n",
      "  '0.000*\"libro\" + 0.000*\"shaede\"'),\n",
      " (16,\n",
      "  '0.027*\"faith\" + 0.000*\"patch\" + 0.000*\"lucian\" + 0.000*\"rawl\" + '\n",
      "  '0.000*\"psychic\" + 0.000*\"deeper_meane\" + 0.000*\"fave\" + 0.000*\"doctor\" + '\n",
      "  '0.000*\"beck\" + 0.000*\"woerld\"'),\n",
      " (17,\n",
      "  '0.174*\"que\" + 0.039*\"era\" + 0.035*\"por\" + 0.019*\"este\" + 0.014*\"percy\" + '\n",
      "  '0.011*\"leer\" + 0.006*\"puede\" + 0.006*\"persona\" + 0.002*\"solo\" + '\n",
      "  '0.000*\"libro\"'),\n",
      " (18,\n",
      "  '0.000*\"sofrer\" + 0.000*\"tivesse\" + 0.000*\"pareceu\" + 0.000*\"provavelmente\" '\n",
      "  '+ 0.000*\"quisesse\" + 0.000*\"resenha\" + 0.000*\"leitura\" + 0.000*\"inert\" + '\n",
      "  '0.000*\"verdade\" + 0.000*\"destino\"'),\n",
      " (19,\n",
      "  '0.059*\"ship\" + 0.047*\"disappointing\" + 0.034*\"sell\" + 0.032*\"crap\" + '\n",
      "  '0.021*\"paint\" + 0.020*\"handsome\" + 0.019*\"goodness\" + 0.018*\"gold\" + '\n",
      "  '0.015*\"extent\" + 0.012*\"unravel\"')]\n"
     ]
    }
   ],
   "source": [
    "# Print the Keyword in the 10 topics\n",
    "pprint(lda_model.print_topics())\n",
    "doc_lda = lda_model[corpus]"
   ]
  },
  {
   "cell_type": "code",
   "execution_count": 21,
   "metadata": {},
   "outputs": [
    {
     "name": "stdout",
     "output_type": "stream",
     "text": [
      "\n",
      "Perplexity:  -13.595581545200423\n",
      "\n",
      "Coherence Score:  0.40217816604924533\n"
     ]
    }
   ],
   "source": [
    "# Compute Perplexity\n",
    "print('\\nPerplexity: ', lda_model.log_perplexity(corpus))  # a measure of how good the model is. lower the better.\n",
    "\n",
    "# Compute Coherence Score\n",
    "coherence_model_lda = CoherenceModel(model=lda_model, texts=data_lemmatized, dictionary=id2word, coherence='c_v')\n",
    "coherence_lda = coherence_model_lda.get_coherence()\n",
    "print('\\nCoherence Score: ', coherence_lda)"
   ]
  },
  {
   "cell_type": "code",
   "execution_count": 23,
   "metadata": {},
   "outputs": [
    {
     "data": {
      "text/html": [
       "\n",
       "<link rel=\"stylesheet\" type=\"text/css\" href=\"https://cdn.jsdelivr.net/gh/bmabey/pyLDAvis@3.4.0/pyLDAvis/js/ldavis.v1.0.0.css\">\n",
       "\n",
       "\n",
       "<div id=\"ldavis_el16585115742747361373109667\" style=\"background-color:white;\"></div>\n",
       "<script type=\"text/javascript\">\n",
       "\n",
       "var ldavis_el16585115742747361373109667_data = {\"mdsDat\": {\"x\": [-0.45926162544415805, -0.39480238432648856, -0.41413684769033166, -0.05809747541252813, -0.01646082088830697, 0.0005738563466221121, 0.01954659892181933, 0.05278406069602813, 0.08210581931950126, 0.09846893423352802, 0.10098287621710157, 0.10506973730928355, 0.10443884878398774, 0.10907141836670989, 0.10878616303610075, 0.10825691428248999, 0.11127937972257297, 0.11363573396065486, 0.11387940628270579, 0.11387940628270579], \"y\": [-0.11298106126105123, 0.33879701208675966, -0.2207958015485932, 0.05389915685186763, 0.009431005189872992, 0.0033128536226047335, -0.011051862758257522, -0.004886206935406301, -0.006052101833926419, -0.005710410980242758, -0.005585827749885572, -0.0052652206628657165, -0.0053085863911315305, -0.0047177447298983235, -0.004768794285292809, -0.004855151562501904, -0.004254065571126239, -0.003225480144620119, -0.002990855668152932, -0.0029908556681528973], \"topics\": [1, 2, 3, 4, 5, 6, 7, 8, 9, 10, 11, 12, 13, 14, 15, 16, 17, 18, 19, 20], \"cluster\": [1, 1, 1, 1, 1, 1, 1, 1, 1, 1, 1, 1, 1, 1, 1, 1, 1, 1, 1, 1], \"Freq\": [46.347742763956646, 23.05713517390913, 22.05260190999103, 2.1248650818595562, 1.5146743017185664, 1.301298663660091, 1.10219721040848, 0.6907867622785402, 0.4558819516972133, 0.2739847345066362, 0.23620987653342707, 0.20678625573682508, 0.14739647452757473, 0.12978920811038278, 0.12559920190181323, 0.12284051697567669, 0.06809202376714012, 0.025055577669978242, 0.008667821360689826, 0.008394489430612708]}, \"tinfo\": {\"Term\": [\"book\", \"story\", \"read\", \"love\", \"really\", \"get\", \"world\", \"series\", \"feel\", \"good\", \"die\", \"think\", \"end\", \"life\", \"much\", \"author\", \"first\", \"character\", \"novel\", \"new\", \"people\", \"find\", \"take\", \"fantasy\", \"still\", \"leave\", \"least\", \"go\", \"help\", \"set\", \"book\", \"love\", \"really\", \"series\", \"end\", \"think\", \"much\", \"still\", \"lot\", \"like\", \"feel\", \"next\", \"bit\", \"last\", \"star\", \"definitely\", \"sure\", \"whole\", \"wait\", \"first\", \"actually\", \"finish\", \"pretty\", \"reading\", \"amazing\", \"second\", \"hate\", \"pick\", \"probably\", \"chapter\", \"read\", \"get\", \"good\", \"start\", \"enjoy\", \"review\", \"little\", \"point\", \"thing\", \"say\", \"time\", \"happen\", \"character\", \"give\", \"part\", \"well\", \"go\", \"see\", \"make\", \"also\", \"know\", \"want\", \"world\", \"novel\", \"fantasy\", \"set\", \"reader\", \"vampire\", \"favorite\", \"far\", \"word\", \"heart\", \"other\", \"adventure\", \"main\", \"dark\", \"magic\", \"create\", \"side\", \"grow\", \"child\", \"full\", \"mystery\", \"bring\", \"rather\", \"add\", \"tale\", \"unique\", \"wonderful\", \"rest\", \"often\", \"awesome\", \"story\", \"author\", \"recommend\", \"work\", \"new\", \"fun\", \"action\", \"romance\", \"many\", \"however\", \"great\", \"character\", \"short\", \"mind\", \"well\", \"write\", \"life\", \"help\", \"begin\", \"live\", \"friend\", \"girl\", \"family\", \"continue\", \"kill\", \"meet\", \"power\", \"woman\", \"boy\", \"call\", \"person\", \"believe\", \"fight\", \"able\", \"name\", \"death\", \"away\", \"save\", \"play\", \"run\", \"discover\", \"lead\", \"soon\", \"move\", \"figure\", \"true\", \"become\", \"fall\", \"people\", \"man\", \"leave\", \"human\", \"change\", \"place\", \"try\", \"year\", \"take\", \"find\", \"learn\", \"lose\", \"follow\", \"let\", \"never\", \"tell\", \"look\", \"turn\", \"go\", \"come\", \"know\", \"even\", \"make\", \"want\", \"see\", \"funny\", \"absolutely\", \"perhaps\", \"battle\", \"enjoyable\", \"mate\", \"home\", \"king\", \"father\", \"cool\", \"favourite\", \"entertain\", \"promise\", \"voice\", \"listen\", \"daughter\", \"somewhat\", \"ending\", \"personality\", \"visit\", \"culture\", \"dialogue\", \"possibly\", \"prose\", \"installment\", \"mature\", \"perfectly\", \"beast\", \"fairy_tale\", \"convince\", \"least\", \"sequel\", \"fire\", \"tear\", \"slightly\", \"glass\", \"truth\", \"drag\", \"somehow\", \"pain\", \"desire\", \"politic\", \"goodread\", \"pay\", \"mainly\", \"charming\", \"spoiler_alert\", \"baby\", \"link\", \"mess\", \"mark\", \"kick\", \"hair\", \"wing\", \"torture\", \"daemon\", \"difference\", \"weight\", \"fuck\", \"edit\", \"wonder\", \"consider\", \"com\", \"provide\", \"emotion\", \"sad\", \"perspective\", \"clearly\", \"intense\", \"god\", \"storyline\", \"major\", \"hilarious\", \"mom\", \"eat\", \"emotional\", \"dad\", \"switch\", \"test\", \"terrify\", \"trait\", \"ash\", \"improve\", \"feature\", \"heavy\", \"food\", \"somewhere\", \"gather\", \"multiple\", \"suspenseful\", \"stuff\", \"humor\", \"angel\", \"boring\", \"und\", \"color\", \"interaction\", \"myth\", \"witty\", \"m\", \"brave\", \"moral\", \"band\", \"winter\", \"various\", \"adorable\", \"humorous\", \"dog\", \"forward\", \"anthology\", \"ridiculous\", \"nicht\", \"hat\", \"info\", \"necessarily\", \"ist\", \"sarcasm\", \"gut\", \"tense\", \"spot\", \"die\", \"war\", \"description\", \"world_builde\", \"pull\", \"race\", \"check\", \"free\", \"slowly\", \"confuse\", \"post\", \"science_fiction\", \"water\", \"resolve\", \"immensely\", \"suit\", \"previously\", \"mystical\", \"justice\", \"convinced\", \"gifted\", \"dilemma\", \"choppy\", \"nemesis\", \"difficulty\", \"snippet\", \"overtly\", \"elloren\", \"witch\", \"gardnerian\", \"exciting\", \"finnikin\", \"memory\", \"fae\", \"black\", \"close\", \"hero\", \"chance\", \"trope\", \"edge\", \"deliver\", \"secondary_character\", \"historical\", \"stage\", \"factor\", \"obsess\", \"deadly\", \"capable\", \"tad\", \"angle\", \"dimensional\", \"puzzle\", \"female_lead\", \"fascinate\", \"stomach\", \"mode\", \"carnival\", \"sriduangkaew\", \"krasue\", \"loner\", \"seat\", \"detour\", \"dominate\", \"wecker\", \"traveller\", \"sylva\", \"hunt\", \"travel\", \"monster\", \"princess\", \"zombie\", \"black\", \"high\", \"warrior\", \"previous\", \"small\", \"escape\", \"close\", \"hand\", \"movie\", \"confusing\", \"illustration\", \"kudo\", \"darker\", \"hobbit\", \"science\", \"translate\", \"pipi\", \"varen\", \"tolkien\", \"amazement\", \"cassel\", \"holy\", \"astronaut\", \"noticeable\", \"nightside\", \"ing\", \"detract\", \"murakami\", \"complicated\", \"mountain\", \"script\", \"curse_worker\", \"fbis\", \"mafia\", \"snitch\", \"firstborn\", \"actress\", \"ojo\", \"adapt\", \"gandalf\", \"emperor\", \"razor\", \"tree\", \"film\", \"expand\", \"wear\", \"son\", \"ring\", \"exciting\", \"body\", \"picture\", \"poor\", \"destroy\", \"close\", \"black\", \"middle_earth\", \"emmaline\", \"game\", \"small\", \"zombie\", \"travel\", \"level\", \"introduction\", \"deeply\", \"equally\", \"wonderfully\", \"audio\", \"flawed\", \"substance\", \"craft\", \"shake\", \"christian\", \"grossman\", \"youngster\", \"fairy\", \"rye\", \"catcher\", \"whimsical\", \"fantastical_creature\", \"meaning\", \"uninitiated\", \"tween\", \"precede\", \"dresden_file\", \"quote\", \"fireheart\", \"murakami\", \"storytelling\", \"minutia\", \"apropo\", \"compatriot\", \"acknowledge\", \"wonderland\", \"format\", \"natural\", \"elloren\", \"close\", \"high\", \"black\", \"grace\", \"shaede\", \"serve\", \"control\", \"nature\", \"princess\", \"witch\", \"game\", \"drive\", \"ship\", \"disappointing\", \"sell\", \"crap\", \"paint\", \"handsome\", \"goodness\", \"gold\", \"extent\", \"unravel\", \"spread\", \"disney\", \"valuable\", \"zoe\", \"sage\", \"sylva\", \"bar\", \"ounce\", \"deadhead\", \"current\", \"cruise_ship\", \"slasher\", \"anchovy\", \"bullion\", \"internationally\", \"mathematically\", \"multipled\", \"nominal\", \"stowaway\", \"nonchalant\", \"occult\", \"dozen\", \"dealer\", \"zombie\", \"raise\", \"refer\", \"christopher\", \"troy\", \"esoteric\", \"interact\", \"witch\", \"survive\", \"picture\", \"task\", \"que\", \"era\", \"por\", \"este\", \"percy\", \"leer\", \"puede\", \"persona\", \"solo\", \"libro\", \"si\", \"porque\", \"pero\", \"al_igual\", \"vece\", \"decisione\", \"tyrande\", \"final\", \"aunque\", \"tercero\", \"charlie_manx\", \"tiempo\", \"igual\", \"todo_lo\", \"tiene\", \"tiene_un\", \"este_libro\", \"mucho\", \"mostrar\", \"completamente\", \"simplemente\", \"cidade\", \"connect\", \"saga\", \"average\", \"narration\", \"frustrated\", \"ellie\", \"pero\", \"gjhthf\", \"ridley\", \"voy\", \"gustado_muchisimo\", \"eventualmente\", \"sintio\", \"terminar_la\", \"mi\", \"parecen\", \"anteriore\", \"adema\", \"mucho\", \"audiobook\", \"diose\", \"hace\", \"reccommend\", \"reinveste\", \"cephalopod\", \"whisper\", \"shaede\", \"aceitavel\", \"contraditorio\", \"esticava\", \"deacon\", \"swift\", \"darian\", \"percy_jackson\", \"libro\", \"simplemente\", \"gray\", \"house\", \"darkness\", \"boss\", \"middle_earth\", \"patch\", \"narrator\", \"search\", \"previous\", \"einen_knappen\", \"zombie\", \"nature\", \"close\", \"ring\", \"mission\", \"best_friend\", \"rip\", \"dear\", \"servant\", \"slave\", \"tease\", \"chalton_reese\", \"article\", \"protector\", \"computer\", \"novella\", \"sleepy_hollow\", \"party\", \"wit\", \"doubt\", \"action_packed\", \"tempt\", \"middle_earth\", \"midnight_breed\", \"blackmailing\", \"garland\", \"outstretched\", \"pamphlet\", \"ftc_advisory\", \"lieu\", \"dimitri\", \"irritation\", \"opening_sentence\", \"faerie_tale\", \"clothing\", \"prove\", \"saruman\", \"kidnapper\", \"wear\", \"ring\", \"atticus\", \"realm\", \"glance\", \"ichabod\", \"existence\", \"ignore\", \"kidnap\", \"princess\", \"capture\", \"witch\", \"copy\", \"member\", \"exciting\", \"loud\", \"willing\", \"genius\", \"enhance\", \"darrow\", \"screen\", \"absolute\", \"morning_star\", \"puritan\", \"yulric\", \"rebellion\", \"amanda\", \"fraught\", \"red_rising\", \"principle\", \"actor\", \"backwater\", \"medic\", \"repeatedly\", \"red_rise\", \"mar\", \"conduct\", \"citizen\", \"prominent\", \"pierce_brown\", \"uprising\", \"marathone\", \"cultist\", \"hatchet\", \"woken\", \"bill\", \"bile\", \"complexity\", \"host\", \"car\", \"punishment\", \"ideal\", \"refuse\", \"brother\", \"large\", \"naturally\", \"body\", \"travel\", \"high\", \"character_development\", \"damn\", \"fairy\", \"certain\", \"elloren\", \"smile\", \"close\", \"catch\", \"cass\", \"bored\", \"gasp\", \"page_turner\", \"folk\", \"imprint\", \"omega\", \"alpha\", \"zach\", \"twin\", \"council\", \"keeping_room\", \"electricity\", \"deformity\", \"settlement\", \"smidge\", \"radiation\", \"nuclear\", \"middle_age\", \"island\", \"subtly\", \"seer\", \"atmosphere\", \"hunger_game\", \"prison\", \"bereft\", \"resentment\", \"clearing\", \"agonizingly\", \"confessor\", \"technology\", \"worsen\", \"fresh_air\", \"background\", \"breath\", \"sit\", \"bear\", \"send\", \"memory\", \"small\", \"faith\", \"rawl\", \"sepia\", \"arc_provide\", \"deeper_meane\", \"conveniently\", \"pachico\", \"penultimate\", \"rawling\", \"sitrep\", \"atheist\", \"telepathy\", \"agnostic\", \"walk_away\", \"organically\", \"bathing\", \"deathbe\", \"factuality\", \"oxygenation\", \"yeastless\", \"woerld\", \"mid\", \"myst\", \"plight\", \"blindfold\", \"teresa\", \"frohock\", \"ironic\", \"devise\", \"tightrope\", \"lucian\", \"fave\", \"psychic\", \"irrelevant\", \"phone\", \"wash\", \"beck\", \"pause\", \"doctor\", \"patch\", \"behavior\", \"tree\", \"teacher\", \"guilt\", \"exception\", \"island\", \"sorry\", \"final\", \"heal\", \"likable\", \"kidnap\", \"lanyon\", \"wattpad\", \"agian\", \"bullcrap\", \"darnell\", \"gonner\", \"incapacitate\", \"cindy\", \"supernatural_creatures\", \"victoria\", \"farce\", \"ala\", \"cheesiness\", \"lundqvist\", \"salem\", \"supurb\", \"migraine\", \"sensuous\", \"tasteful\", \"tastefully\", \"alastar\", \"anonymous\", \"aphorism\", \"fevier\", \"finita\", \"homily\", \"ianus\", \"imag\", \"imager\", \"imaging\", \"end\", \"even\", \"original\", \"provide\", \"satisfying\", \"spring\", \"usually\", \"well\", \"age_group\", \"also\", \"bit\", \"book\", \"change\", \"character\", \"college\", \"concept\", \"enjoy\", \"entertaining\", \"fairly\", \"first\", \"good\", \"lead\", \"light\", \"look\", \"mostly\", \"nice\", \"perfect\", \"pretty\", \"lanyon\", \"wattpad\", \"agian\", \"bullcrap\", \"darnell\", \"gonner\", \"incapacitate\", \"cindy\", \"supernatural_creatures\", \"victoria\", \"farce\", \"ala\", \"cheesiness\", \"lundqvist\", \"salem\", \"supurb\", \"migraine\", \"sensuous\", \"tasteful\", \"tastefully\", \"alastar\", \"anonymous\", \"aphorism\", \"fevier\", \"finita\", \"homily\", \"ianus\", \"imag\", \"imager\", \"imaging\", \"end\", \"even\", \"original\", \"provide\", \"satisfying\", \"spring\", \"usually\", \"well\", \"age_group\", \"also\", \"bit\", \"book\", \"change\", \"character\", \"college\", \"concept\", \"enjoy\", \"entertaining\", \"fairly\", \"first\", \"good\", \"lead\", \"light\", \"look\", \"mostly\", \"nice\", \"perfect\", \"pretty\"], \"Freq\": [23552.0, 9744.0, 11531.0, 7362.0, 6804.0, 7159.0, 3263.0, 5011.0, 4639.0, 4814.0, 796.0, 4449.0, 4353.0, 2128.0, 4083.0, 2074.0, 3857.0, 7778.0, 1846.0, 2131.0, 1830.0, 4007.0, 3030.0, 1591.0, 2865.0, 1560.0, 499.0, 5209.0, 1373.0, 1380.0, 23551.48288528591, 7361.959205789842, 6804.083613303572, 5010.441626363437, 4352.914439333182, 4448.889695141838, 4082.7744908014533, 2864.8637044673164, 2412.7786079311436, 2398.467179548312, 4638.389932556644, 2072.4566666426254, 1807.5460410067474, 1493.0575901143557, 1472.67878848509, 1349.3845287663532, 1247.3809677660627, 1167.7854286656982, 1166.4597811682686, 3854.8273458796484, 1078.3520432794248, 1018.1487504779257, 979.3608959407612, 976.4698598855887, 929.7964025130367, 894.0392204464933, 883.448821407671, 879.4172763818195, 765.362437729776, 730.03019321477, 11510.544240652582, 7116.288148030956, 4797.896569348366, 2635.2212146393103, 2928.0693251121415, 1870.1423391114333, 2659.591102092276, 1362.9734879577568, 3286.020349359918, 2664.95861229175, 3726.940329107508, 2010.591880187155, 6075.339419886702, 2391.2413283445703, 1918.8392203073465, 3231.7303602356283, 3728.0381762260618, 2767.3602732925806, 2907.130470744784, 2499.4190331505547, 2665.160792373562, 2200.665038453058, 3263.029004169474, 1845.77411813329, 1590.6264422453398, 1379.8427467103775, 1359.4281874291798, 1276.6013904662211, 945.5401757517755, 872.421676111785, 810.4499985229943, 806.8149019580096, 788.238018655658, 773.829067983084, 771.449212997298, 762.774233541295, 762.4699535242102, 752.973948608916, 705.2404534723452, 696.6507139453132, 682.6815736234385, 682.2327663654864, 669.1778502344437, 659.2708712096448, 609.3495127811613, 604.0690202936156, 598.2174548854532, 587.6440703266484, 569.7191744377055, 568.8969378562842, 543.4406501646317, 541.2053224197127, 9594.40247508741, 2059.5244861623473, 831.6295832830834, 1450.6693995727076, 2011.0143157054424, 1219.0078040330336, 1001.9657213991364, 1128.9525688173553, 1278.1448214399181, 871.1362141518146, 1301.573806030629, 1702.5792269543692, 722.9865646658818, 735.2227045644466, 871.4673118732103, 800.3283625187432, 2128.0132536149404, 1372.6493081293029, 1336.800916606544, 1155.933949584747, 1137.1692279116521, 1123.889271529639, 981.4359603730499, 897.5443256663, 835.1375658555305, 805.90482702653, 756.0244847816598, 755.087042999956, 738.2695194637205, 724.616627283761, 681.705346940968, 673.3278883920981, 659.4087395789944, 652.7847025868647, 647.3535526774726, 638.2335321241723, 628.8362781260444, 619.7432859030197, 584.6950984359934, 582.9712425629832, 581.781830551281, 563.0365803079562, 534.982938597267, 530.7063396695073, 516.3116577231251, 501.0142295455359, 1295.237853505787, 923.7538630141813, 1807.2670653562357, 1121.3524696737663, 1517.776438228305, 943.4632524103394, 877.6763516792388, 846.7976426963082, 1424.2395508031839, 891.3364698005578, 2178.842841851063, 2481.4484973864674, 857.4871818407589, 770.4831521629802, 794.0914057813311, 810.2395644443112, 1055.349618099749, 1045.3694347253902, 965.051276240229, 904.2960577290178, 1480.7840312567355, 1151.425403455336, 1287.1454611015388, 1082.9199491372233, 1120.4545775100373, 1028.284441039141, 967.4987191266189, 463.7600603184345, 410.0161859320133, 405.8632548224252, 355.52982076521306, 347.2207483496778, 315.3235782799576, 308.26773675955667, 308.244202406117, 308.18046618966525, 298.7796931567143, 280.9484342552074, 261.1495163218551, 258.04245017835854, 255.5903491304072, 255.58573580186481, 244.74203265450046, 237.17615258543594, 224.43739186692747, 201.09150459100618, 184.81804130674413, 174.5727740355971, 158.1893881005133, 155.00280050350182, 153.4728230447717, 152.53330912030782, 138.7766929304293, 137.6256036803725, 133.7821376257475, 120.95894449108225, 119.39983077996818, 498.642408739978, 359.30181535657164, 265.6663528849266, 241.92254936350193, 236.03452848130593, 181.34124425082075, 167.25325729337888, 164.26132822002023, 148.54565352804647, 142.43649770532303, 134.244396832526, 132.58464210689243, 125.26338129868343, 124.71684823295006, 118.45100211982208, 118.35518000983339, 117.52883365312562, 115.41671612768776, 114.62279289359913, 113.99040940036522, 111.95226114882502, 111.690709069702, 101.03007879517914, 100.01108044207231, 98.2392049065777, 92.81831491625998, 90.50939305247512, 86.19259411613193, 83.85314344631003, 82.36024012522735, 356.8335693643978, 305.2871501906195, 277.05368999406045, 274.7940986760876, 271.321698226259, 261.83608094370203, 183.3650438570213, 172.97181173644915, 167.6298765297657, 164.55978415893, 163.56304961862662, 161.60891298807283, 152.25176087753596, 149.48742264673479, 145.40734170244312, 136.33621891835912, 116.49381159656008, 108.29142688920088, 107.38118207604148, 91.92735699082328, 86.74549873660641, 86.70585381425906, 80.04610576513494, 76.39081137551184, 74.04166419600652, 71.31046104808681, 69.0274082686788, 64.3169209803485, 62.450465377560974, 58.17754996861031, 342.23481573145347, 266.4009743872229, 250.7217869544669, 239.1799276156916, 229.30368309259006, 154.1159512031418, 140.3903654167754, 119.97287656767524, 119.07936199908437, 103.70329131976074, 100.99352436675866, 97.20880507661248, 84.74013872268567, 82.840158978052, 80.02547505367599, 77.98923778346986, 77.60731199746193, 65.08678816425343, 64.85139766473037, 61.39309653231687, 58.61514016450601, 57.81185926401134, 56.87018698951443, 55.64293190992282, 53.94409081353121, 49.52434484726896, 45.19594909769987, 42.92770405668298, 42.14936492200763, 38.99465197465632, 456.64603416282534, 78.14788693300436, 292.6226470039911, 241.6882724289533, 240.01341415184856, 232.87488469601766, 230.55671142777302, 210.75010168014887, 194.3388929741798, 120.61973622379843, 86.61655105260685, 82.52493500968957, 81.10692584104777, 80.39876099427977, 43.774011942831656, 41.52644574323211, 40.29846952838153, 23.6551096739929, 22.32552867095208, 17.444253497969868, 17.041507765039068, 15.852574162832978, 11.48358295742061, 11.401254120135928, 2.520029286177583, 1.4441883324243212, 0.5777340368449541, 0.04550703470741217, 0.04550980872469484, 0.04550435855691928, 0.04550740592626995, 0.0455035958709024, 0.0455064205089384, 0.04550531360179884, 0.045505910926688174, 0.045506808601380615, 251.56519963526574, 224.16557583503624, 104.64271751628152, 102.21169007308852, 82.5382037590028, 69.39122774374052, 49.11582741996415, 46.89606853294029, 45.12531519305361, 40.10672115755546, 36.17295437219808, 32.824695089557096, 32.339847915563176, 32.098021841052635, 28.913818505826143, 23.185799263559183, 14.757351986515323, 12.84838511425151, 8.806193758721282, 5.900953495443304, 0.040106132589226615, 0.04010610140939446, 0.04010577179402594, 0.04010579406533463, 0.04010668491768197, 0.04010560253207995, 0.04010566489174426, 0.04010559807781821, 0.04010544217865742, 0.04010616822332051, 0.04010632857674303, 0.04010762922117016, 0.04010698780748007, 0.040107174886473015, 0.040107228337613855, 0.04010723279187559, 0.040107491139056324, 0.040106622558017654, 0.04010684972536623, 0.040106916539292284, 0.0401068096370106, 0.04010741096234506, 243.46595811406863, 213.7800593378317, 53.086672316801454, 32.00947267033027, 12.753974957034869, 4.075040384046477, 0.03035592368725647, 0.03035433354439031, 0.03035385435992391, 0.030353926639145098, 0.030353677677383225, 0.030353771372669952, 0.03035358665910469, 0.03035358665910469, 0.03035358665910469, 0.030353592013121076, 0.030353589336112884, 0.030353562566030962, 0.03035358665910469, 0.030353822235825605, 0.030353538472957232, 0.0303540979676694, 0.030353640199268533, 0.030353506348858927, 0.030353233294023323, 0.030353233294023323, 0.030353233294023323, 0.030353233294023323, 0.030353233294023323, 0.03035336446742474, 0.03035358665910469, 0.030353420684596774, 0.03035353579594904, 0.0303535143798835, 0.0303533778524657, 0.030353616106194806, 0.030354263942177315, 0.030353894515046793, 0.030354146153816857, 0.030354590537176762, 0.03035397750230075, 0.030354338898406694, 0.03035395608623521, 0.030353926639145098, 0.03035386506795668, 0.030353824912833796, 0.030354349606439464, 0.030353958763243406, 0.03035369641644057, 0.030353637522260342, 0.0303537205095143, 0.030353717832506108, 0.030353715155497916, 0.030353691062424186, 99.7785966874324, 73.07124411441356, 39.45109781087204, 38.36926267762048, 37.58107161517786, 37.27823425469362, 30.98690926953532, 30.392580816878187, 26.726422149982856, 20.666938223217294, 14.304488135379495, 0.027287404359353833, 0.02728676044873079, 0.027288050577900257, 0.027286651976331924, 0.027286651976331924, 0.02728676044873079, 0.027286615049557844, 0.027286972777681755, 0.027286474266231656, 0.027286474266231656, 0.0272865504277032, 0.027286448879074478, 0.027286693518952767, 0.027286490421695318, 0.027286451186997858, 0.027286428107764056, 0.027286335790828852, 0.02728627578482097, 0.02728627578482097, 0.027286485805848557, 0.027286631205021502, 0.027286723521956706, 0.027286744293267128, 0.027286894308286833, 0.027287979032275474, 0.027287475904978615, 0.027287166643245684, 0.027286748909113888, 0.02728655735147334, 0.027286617357481224, 0.02728682968643219, 0.027286686595182626, 0.027286741985343747, 0.02728681583889191, 0.027286700442722907, 0.027286665823872205, 65.32010314841564, 52.22264701920578, 37.873320999604815, 35.757397262291136, 23.177344357435466, 21.668466270809706, 20.644920986395427, 19.57589657034184, 16.470207938107144, 13.802617492721758, 9.670437425428878, 5.535366551262963, 5.113490813289273, 3.9631268296118076, 0.9024202695415654, 0.025923285338076484, 0.025922832760510925, 0.025922113485451377, 0.025922153894162588, 0.025922194302873798, 0.025921590192641203, 0.02592162049917461, 0.02592142855779636, 0.02592142855779636, 0.02592142855779636, 0.02592142855779636, 0.02592142855779636, 0.02592142855779636, 0.02592142855779636, 0.02592142855779636, 0.025921557865672233, 0.025921689193983667, 0.025921440680409722, 0.025922836801382045, 0.025922032668028956, 0.025921907401024204, 0.025921442700845284, 0.025921525538703263, 0.025921557865672233, 0.02592162049917461, 0.02592242867339882, 0.025921763950099406, 0.0259218205222951, 0.02592165888745026, 137.63285619015542, 30.968741719177892, 27.41490758920111, 15.184493357273379, 11.055769523344324, 8.864958976914869, 5.049293717448208, 4.539916729291705, 1.928441327467706, 0.01827432247664629, 0.018273590875895526, 0.018272582764624786, 0.01827165242193779, 0.018270779685609122, 0.01827015753693918, 0.01827015465662126, 0.01827015465662126, 0.01827122037425033, 0.018269793176722754, 0.018269624678124645, 0.018269624678124645, 0.018269546909540902, 0.018269361129035294, 0.01826917390837073, 0.01826915950678115, 0.01826885275292305, 0.018268857073399924, 0.018268777864657224, 0.01826874906147806, 0.018268616566853906, 0.018268654010986818, 0.018268697215755567, 66.05414592058366, 33.001597818869385, 23.905678965736108, 23.304339408177306, 5.931034435577917, 0.018126779294111217, 0.018126991070914245, 0.018126449581723266, 0.018126454654221545, 0.018126402661114212, 0.018126360813003436, 0.018126360813003436, 0.018126360813003436, 0.018126360813003436, 0.018126360813003436, 0.018126360813003436, 0.018126360813003436, 0.018126360813003436, 0.0181264483135987, 0.018126523132948272, 0.01812629106615214, 0.018126360813003436, 0.018126294870525844, 0.018126294870525844, 0.018126467335467234, 0.018126467335467234, 0.01812660556104526, 0.018126303747397828, 0.018126303747397828, 0.018126303747397828, 0.01812650030670603, 0.018126589075425862, 0.01812645972671982, 0.018126490161709478, 0.018126704474761644, 0.018126360813003436, 0.018126400124865074, 0.018126739982249576, 0.01812655103168879, 0.01812643436422844, 0.018126490161709478, 0.018126515524200856, 0.018126457190470683, 0.018126491429834045, 0.018126571321681894, 0.018126403929238782, 0.018126554836062497, 0.018126474944214648, 0.018126573857931032, 0.018126460994844388, 51.77899257152991, 34.11889399671887, 22.499946641555525, 20.432829995363733, 17.326808031605946, 5.940092395843847, 0.01738248123569474, 0.017382103262561847, 0.017382103262561847, 0.017382198983030565, 0.017382109398489328, 0.017382465282283287, 0.017381953545931285, 0.017382376924927546, 0.017382104489747342, 0.017382270159789357, 0.01738213639657025, 0.01738206767418245, 0.01738231924720921, 0.017381752287509874, 0.017381752287509874, 0.017381752287509874, 0.017381752287509874, 0.017381752287509874, 0.017381752287509874, 0.017381752287509874, 0.017381875006059515, 0.01738175351469537, 0.017381754741880865, 0.017381752287509874, 0.017381828373010652, 0.01738244319294435, 0.017381926547850365, 0.017381850462349586, 0.01738226893260386, 0.01738219039273209, 0.0173819486371893, 0.01738201245083511, 0.017381807510857213, 0.017381769468106822, 0.017381913048809903, 0.017381968272157242, 0.01738200631490763, 0.017382186711175602, 0.01738200999646412, 0.017382174439320636, 0.01738202963143206, 0.01738200999646412, 0.01738202717706107, 38.30168419490293, 36.855095459411984, 24.10428241143758, 18.543477865443087, 13.506220921186815, 13.397916959487086, 12.129434108061414, 0.01673304229647031, 0.01673224654307921, 0.01673224654307921, 0.016732125319711938, 0.016731818060484002, 0.016731818060484002, 0.016731758048916048, 0.016731758048916048, 0.016731912878761374, 0.016731748447065174, 0.016731748447065174, 0.016731855267656137, 0.016731652428556443, 0.016731708839430322, 0.016731773651923715, 0.016731748447065174, 0.01673175084752789, 0.01673159241698849, 0.01673161642161567, 0.016731606819764797, 0.01673160441930208, 0.01673160441930208, 0.01673160441930208, 0.01673181085909585, 0.016731622422772464, 0.01673178205354323, 0.016731988493337, 0.01673182046094672, 0.01673175084752789, 0.016731758048916048, 0.016731887673902834, 0.01673240977454405, 0.01673186246904429, 0.016731798856782255, 0.01673194168431399, 0.016731936883388556, 0.016732035302360004, 0.016731900876447783, 0.016731851666962057, 0.01673186606973837, 0.016731882872977395, 0.016731821661178082, 0.016731814459789926, 0.016731880472514678, 0.016731818060484002, 14.606302915365033, 14.410756504143368, 13.266648673661154, 8.173732620847352, 4.046047652568274, 2.299217326660991, 0.01027842063576691, 0.010277830511877625, 0.010277061421442435, 0.010277221094197146, 0.010277076723414762, 0.01027691106293175, 0.010276958299455019, 0.01027676003911792, 0.01027676003911792, 0.01027676003911792, 0.01027676003911792, 0.01027676003911792, 0.010276765361543077, 0.01027691106293175, 0.01027676003911792, 0.01027676003911792, 0.01027691106293175, 0.01027676003911792, 0.010276913724144328, 0.010276668892587106, 0.010276609015304089, 0.010276609015304089, 0.010276609015304089, 0.010276609015304089, 0.01027674274123616, 0.01027663363152044, 0.010276619660154402, 0.010276919046569485, 0.010276726773960687, 0.010276948985210994, 0.010276935679148102, 0.010276853846861311, 0.010276851185648733, 0.010276772014574522, 3.6737025625483595, 0.004353745273137057, 0.004353729605347552, 0.004353729605347552, 0.004353740866571258, 0.004353729605347552, 0.004353725198781754, 0.004353725198781754, 0.004353725198781754, 0.004353725198781754, 0.004353723240308066, 0.004353725198781754, 0.004353722750689644, 0.004353725688400176, 0.004353729605347552, 0.004353713937558048, 0.004353713937558048, 0.004353713937558048, 0.004353713937558048, 0.004353713937558048, 0.004353737439242305, 0.004353725198781754, 0.004353721771452801, 0.004353730094965974, 0.004353710020610672, 0.00435372666763702, 0.00435372666763702, 0.004353713937558048, 0.004353710020610672, 0.004353710020610672, 0.004353748700466011, 0.004353740866571258, 0.004353745273137057, 0.004353725198781754, 0.004353730584584397, 0.004353729605347552, 0.004353738418479148, 0.004353725198781754, 0.004353740376952837, 0.004353756534360763, 0.004353734991150195, 0.004353729605347552, 0.004353730584584397, 0.004353730584584397, 0.004353729605347552, 0.004353729605347552, 0.004353729605347552, 0.004353732053439662, 0.004353727157255442, 0.00435372666763702, 0.004353725688400176, 0.0015483517472508212, 0.0015483517472508212, 0.0015483517472508212, 0.0015483517472508212, 0.0015483517472508212, 0.0015483517472508212, 0.0015483517472508212, 0.0015483517472508212, 0.0015483517472508212, 0.0015483517472508212, 0.0015483517472508212, 0.0015483517472508212, 0.0015483517472508212, 0.0015483517472508212, 0.0015483517472508212, 0.0015483517472508212, 0.0015483517472508212, 0.0015483517472508212, 0.0015483517472508212, 0.0015483517472508212, 0.0015483517472508212, 0.0015483517472508212, 0.0015483517472508212, 0.0015483517472508212, 0.0015483517472508212, 0.0015483517472508212, 0.0015483517472508212, 0.0015483517472508212, 0.0015483517472508212, 0.0015483517472508212, 0.0015483517472508212, 0.0015483517472508212, 0.0015483517472508212, 0.0015483517472508212, 0.0015483517472508212, 0.0015483517472508212, 0.0015483517472508212, 0.0015483517472508212, 0.0015483517472508212, 0.0015483517472508212, 0.0015483517472508212, 0.0015483517472508212, 0.0015483517472508212, 0.0015483517472508212, 0.0015483517472508212, 0.0015483517472508212, 0.0015483517472508212, 0.0015483517472508212, 0.0015483517472508212, 0.0015483517472508212, 0.0015483517472508212, 0.0015483517472508212, 0.0015483517472508212, 0.0015483517472508212, 0.0015483517472508212, 0.0015483517472508212, 0.0015483517472508212, 0.0015483517472508212, 0.0014995258711853893, 0.0014995258711853893, 0.0014995258711853893, 0.0014995258711853893, 0.0014995258711853893, 0.0014995258711853893, 0.0014995258711853893, 0.0014995258711853893, 0.0014995258711853893, 0.0014995258711853893, 0.0014995258711853893, 0.0014995258711853893, 0.0014995258711853893, 0.0014995258711853893, 0.0014995258711853893, 0.0014995258711853893, 0.0014995258711853893, 0.0014995258711853893, 0.0014995258711853893, 0.0014995258711853893, 0.0014995258711853893, 0.0014995258711853893, 0.0014995258711853893, 0.0014995258711853893, 0.0014995258711853893, 0.0014995258711853893, 0.0014995258711853893, 0.0014995258711853893, 0.0014995258711853893, 0.0014995258711853893, 0.0014995258711853893, 0.0014995258711853893, 0.0014995258711853893, 0.0014995258711853893, 0.0014995258711853893, 0.0014995258711853893, 0.0014995258711853893, 0.0014995258711853893, 0.0014995258711853893, 0.0014995258711853893, 0.0014995258711853893, 0.0014995258711853893, 0.0014995258711853893, 0.0014995258711853893, 0.0014995258711853893, 0.0014995258711853893, 0.0014995258711853893, 0.0014995258711853893, 0.0014995258711853893, 0.0014995258711853893, 0.0014995258711853893, 0.0014995258711853893, 0.0014995258711853893, 0.0014995258711853893, 0.0014995258711853893, 0.0014995258711853893, 0.0014995258711853893, 0.0014995258711853893], \"Total\": [23552.0, 9744.0, 11531.0, 7362.0, 6804.0, 7159.0, 3263.0, 5011.0, 4639.0, 4814.0, 796.0, 4449.0, 4353.0, 2128.0, 4083.0, 2074.0, 3857.0, 7778.0, 1846.0, 2131.0, 1830.0, 4007.0, 3030.0, 1591.0, 2865.0, 1560.0, 499.0, 5209.0, 1373.0, 1380.0, 23552.114682856667, 7362.592445524298, 6804.715352188071, 5011.073365247936, 4353.546178217681, 4449.598169643531, 4083.584232641845, 2865.495443379979, 2413.4103468156454, 2399.0989184328137, 4639.728067890256, 2073.088405527127, 1808.1787368447237, 1493.689328998858, 1473.3105273695924, 1350.0162676508555, 1248.012706670765, 1168.4171675502005, 1167.0915200527709, 3857.0645615220415, 1078.9837821639271, 1018.7804893624273, 979.9926348252628, 977.102480528278, 930.4281413975383, 894.670959330995, 884.0805602921725, 880.0490152663211, 765.9941766142776, 730.6619320992716, 11531.084699212928, 7159.3588997339875, 4814.145957319969, 2642.651043110634, 2971.0502456946624, 1886.3992983986186, 2715.6306658967474, 1375.8026067543003, 3494.37399136412, 2828.755415473788, 4087.7474700917446, 2135.4106200743527, 7778.480836653957, 2637.73589061351, 2054.213115786793, 4103.759861914991, 5209.385314556326, 3735.4221177265845, 4531.348526904154, 3393.530816331195, 3952.869360541592, 3229.5125865586906, 3263.660440357318, 1846.4055543211343, 1591.2578784331843, 1380.474182898222, 1360.0596236170243, 1277.2328266540655, 946.171611939619, 873.0531122996285, 811.0814347108378, 807.4463381458531, 788.8694548435016, 774.4605041709275, 772.0806491851415, 763.4056697291385, 763.1013897120537, 753.6053847967595, 705.8718896601887, 697.2821501331567, 683.313009811282, 682.86420255333, 669.8092864222872, 659.9023073974884, 609.9810156766109, 604.7004564814591, 598.8488910732967, 588.2755065144919, 570.350610625549, 569.5283740441278, 544.0720863524753, 541.8367586075562, 9744.748036671375, 2074.7908652804945, 840.0507457777586, 1492.1656551899928, 2131.895083713893, 1509.495448636828, 1205.6048193432262, 1476.5718528696193, 1953.9304389292531, 1069.2263868313703, 2697.386073151065, 7778.480836653957, 794.7437705867086, 874.2674136679393, 4103.759861914991, 2186.3056815769196, 2128.64560706312, 1373.281661577483, 1337.433270054724, 1156.5663069261013, 1137.8015813598322, 1124.521624977819, 982.0683138212291, 898.1766791144793, 835.7699193037098, 806.5371804747093, 756.6568382720797, 755.7193964481353, 738.9018729118998, 725.2489807319403, 682.3377003891472, 673.9602418402774, 660.0410930271737, 653.417056035044, 647.9859061256519, 638.8658855723515, 629.4686315742237, 620.375639351199, 585.3274520469147, 583.6035960111625, 582.4141839994603, 563.6689337561355, 535.6152920454463, 531.3386931176866, 516.9440111713044, 501.6465834794821, 1302.2308643660144, 928.744921884573, 1830.011016962417, 1139.6038689233949, 1560.9328579682888, 961.7630755464071, 915.4239072764244, 888.309264865735, 1643.562897917487, 970.7610778747596, 3030.9636100971315, 4007.5212193527655, 950.0654442211328, 822.266517588317, 859.2100391220254, 936.7457337520591, 1591.9322914289296, 1572.932054358637, 1408.4214308126684, 1231.3188968864713, 5209.385314556326, 2766.7223841854775, 3952.869360541592, 2747.4158782270742, 4531.348526904154, 3229.5125865586906, 3735.4221177265845, 464.3983676187121, 410.65449323229086, 406.50156212270275, 356.168128072224, 347.8590556499554, 315.96188558023516, 308.90604405983424, 308.88250970639456, 308.8187734899428, 299.41800047080096, 281.586741555485, 261.7878236221327, 258.6807574786361, 256.22865643068474, 256.22404310214233, 245.38033995477798, 237.81445988571346, 225.075699167205, 201.7298118912837, 185.45634860702165, 175.2110813496481, 158.82769540079082, 155.64110780377933, 154.11113034504922, 153.17161642058534, 139.41500023070682, 138.26391098065002, 134.42044492602503, 121.59725179135981, 120.03813808024574, 499.2847580484544, 359.94416466504805, 266.308702193403, 242.5648986719783, 236.67687781063154, 181.98359355929713, 167.89560660185526, 164.90367752849662, 149.18800283652286, 143.07884701379942, 134.8867461410024, 133.22699141536881, 125.90573060715982, 125.35919756227567, 119.09335142829848, 118.99752931830979, 118.17118296160201, 116.0590654622037, 115.26514222292474, 114.63275870884162, 112.59461045730141, 112.3330583990276, 101.67242810365553, 100.65342977477263, 98.8815542150541, 93.46066423181212, 91.15174236095152, 86.83494342460833, 84.49549275478643, 83.00258943370375, 357.47761350343103, 305.9311943296527, 277.69773413309366, 275.4381428288943, 271.9657423652922, 262.48012508273524, 184.0090879960545, 173.61585587548234, 168.273920675839, 165.20382829796318, 164.2070937576598, 162.25295712710601, 152.89580501656914, 150.13146678576797, 146.0513858414763, 136.9802630573923, 117.13785573559329, 108.93547102823409, 108.02522624481408, 92.57140113658987, 87.38954290167916, 87.34989795329227, 80.69014992501737, 77.03485551454506, 74.68570833503973, 71.95450518712002, 69.67145243226106, 64.96096515788038, 63.094509516594165, 58.82159413705776, 342.87784653760497, 267.044005186641, 251.36481775388503, 239.82295843595895, 229.9467138920082, 154.75898202460937, 141.0333962422331, 120.61590739313291, 119.7223927985025, 104.34632211917886, 101.63655517995028, 97.8518358760306, 85.38316954295303, 83.48318977747013, 80.66850588400044, 78.63226860373722, 78.25034281772929, 65.72981896367156, 65.49442848837244, 62.03612733173498, 59.25817096594456, 58.45489006342945, 57.51321778893254, 56.2859627488123, 54.587121642463735, 50.16737564668707, 45.83897994700428, 43.57073485610109, 42.79239572142574, 39.637682774074435, 796.8009272365273, 421.48029297150185, 293.2781311176054, 242.3437565425676, 240.66889826546287, 233.53036882340544, 231.21219554138733, 211.40558579376318, 194.99437710864333, 121.27522033741272, 87.27203516622114, 83.18041912330386, 81.76240997197036, 81.05424512874328, 44.42949607357878, 42.18192987061987, 40.95395364199581, 24.310593787607186, 22.981012797997025, 18.099737644798402, 17.696991885386737, 16.508058290220745, 12.1390670710349, 12.056738233750217, 3.1755133997918694, 2.099672446038608, 1.233218180198625, 0.7010161428879795, 0.7010638807267109, 0.7010021097341643, 0.7010535997392472, 0.700997384650302, 0.7010437646278286, 0.7010255627235, 0.7010465623670814, 0.7010904976261525, 252.22608011405373, 224.82645631382422, 105.30359801591872, 102.87257055187649, 83.19908424452416, 70.05210822926188, 49.776707898752115, 47.55694901172826, 45.7861956926908, 40.76760164341917, 36.833834850986044, 33.48557559808445, 33.00072841335059, 32.758902354121645, 29.574698984614123, 23.846679780464246, 15.418232465303305, 13.509265593039492, 9.467074237509264, 6.561833986497351, 0.7009910515668104, 0.7009911450279425, 0.7009896715268717, 0.7009913627304144, 0.7010074612176362, 0.7009902438868703, 0.7009914061030025, 0.7009908388713932, 0.7009882027097809, 0.701001358787393, 0.7010062093752483, 0.7010364487960358, 0.7010236426737698, 0.7010371755988609, 0.7010425329440287, 0.7010465623670814, 0.7010648082042584, 0.7010235724444203, 0.7010377018839765, 0.7010424583686099, 0.7010366488314848, 0.7010904976261525, 244.13659049497585, 214.4506917187389, 53.75730471783939, 32.68010505123746, 13.424607379423312, 4.745672790993227, 0.7010133291091956, 0.7010013980181455, 0.7009915420638819, 0.7009950876823081, 0.7009896168261278, 0.7009919376942728, 0.7009882311136392, 0.7009884840669912, 0.7009885908531288, 0.7009887655222818, 0.7009898238211724, 0.7009905496744695, 0.7009921733684662, 0.7009980528953824, 0.7009915047409202, 0.7010048080635795, 0.7009951052324696, 0.7009922741036498, 0.7009867903803733, 0.7009867903803733, 0.7009867903803733, 0.7009867903803733, 0.7009868137604313, 0.7009901395022812, 0.7009954210694822, 0.7009915590824733, 0.7009946690663913, 0.700994299749012, 0.7009908497170897, 0.7009979107903572, 0.7010181231852782, 0.7010094835365893, 0.7010253498405172, 0.7010603540913739, 0.7010222872004952, 0.7010535997392472, 0.7010248470769207, 0.7010255099971219, 0.7010243316791369, 0.7010203190017574, 0.7010904976261525, 0.7010465623670814, 0.7010108615945351, 0.7010037977252808, 0.7010366341086639, 0.7010424583686099, 0.7010425329440287, 0.7010364487960358, 100.45229605402925, 73.74494348101041, 40.124797177468885, 39.04296205802645, 38.254770981774705, 37.951933621290465, 31.660608667891992, 31.066280229531227, 27.40012151657971, 21.340637589814147, 14.978187559617412, 0.7009961380000306, 0.7009918300715333, 0.7010258828169132, 0.7009901166234729, 0.7009901500626942, 0.7009933774536254, 0.7009917323794304, 0.7010018452748927, 0.7009892657834237, 0.7009898625739209, 0.7009919767780562, 0.7009895460258032, 0.7009958655200272, 0.7009910056411144, 0.7009915047409202, 0.7009910409071968, 0.7009889256608763, 0.7009876919644384, 0.7009876919644384, 0.700993672744534, 0.7009995834698898, 0.7010042928113356, 0.7010071369748401, 0.7010161428879795, 0.7010904976261525, 0.7010648082042584, 0.7010465623670814, 0.7010146438467864, 0.7009989286200164, 0.7010082524373439, 0.7010455183407905, 0.7010201244648213, 0.7010371755988609, 0.7010638807267109, 0.7010366341086639, 0.7010181463939199, 65.99516767299609, 52.89771154378623, 38.548385537958744, 36.43246181661097, 23.852408882015922, 22.343530795390162, 21.31998552289959, 20.250961096122527, 17.1452724626876, 14.477682017302216, 10.345501950009336, 6.210431079543256, 5.788555337869729, 4.638191354192264, 1.5774847941220211, 0.701001358787393, 0.7010040439846508, 0.7009901398727136, 0.70099420365861, 0.7010054418170847, 0.7009906371325111, 0.7009917486254665, 0.7009876159118352, 0.7009876159118352, 0.7009876159118352, 0.7009876159118352, 0.7009876159118352, 0.7009876159118352, 0.7009876159118352, 0.7009876229875766, 0.7009913701304831, 0.7009953689223889, 0.7009879861258995, 0.7010425329440287, 0.7010129485791824, 0.7010078698016246, 0.7009882159175149, 0.7009920881061511, 0.700993763865969, 0.700999727860887, 0.7010638807267109, 0.7010133979699036, 0.7010255099971219, 0.7010056128458492, 138.31557540614202, 31.651460935164465, 28.097626805187684, 15.867212573259952, 11.738488739330897, 9.547678192901442, 5.732012933434779, 5.2226359947610215, 2.611160543454277, 0.7010088354973826, 0.7010014332344247, 0.7009982673459828, 0.7010046616779985, 0.7009924612662823, 0.7009913989244221, 0.7009913819282648, 0.7009913819282648, 0.7010405295697388, 0.7009939021384946, 0.7009899423884588, 0.7009899423884588, 0.7009906418708612, 0.7009900038556116, 0.7009913462680272, 0.700990968581213, 0.7009889738220787, 0.7009905740638017, 0.7009916675496795, 0.700991945600673, 0.7009891177512833, 0.7009906953694193, 0.7009961042575467, 66.73700508071362, 33.6844569651902, 24.588538112056934, 23.987198554498132, 6.613893581898743, 0.7009918141456203, 0.7010046616779985, 0.7009884213330783, 0.7009888226830782, 0.7009883367852068, 0.700987207544002, 0.700987207544002, 0.700987207544002, 0.700987207544002, 0.7009872112438391, 0.700987214124157, 0.7009875045855039, 0.7009877814481292, 0.7009916675496795, 0.7009946997996557, 0.7009860146127583, 0.7009887825411582, 0.7009864753458502, 0.7009864753458502, 0.7009932032068418, 0.7009935746162415, 0.7009989286200164, 0.7009875232341719, 0.7009875232341719, 0.7009875232341719, 0.7009952062474839, 0.7009993201131234, 0.7009948142180975, 0.7009965873565643, 0.7010088354973826, 0.7009906953694193, 0.7009942525962817, 0.7010337853704329, 0.7010153160211297, 0.7009996837001355, 0.7010108615945351, 0.7010175567393444, 0.7010064912912768, 0.7010177457216537, 0.7010377018839765, 0.7009991060902953, 0.7010425329440287, 0.7010201244648213, 0.7010904976261525, 0.7010222872004952, 52.4625964419138, 34.80249786036938, 23.183550505206043, 21.11643385901425, 18.01041192129601, 6.623696259494365, 0.7009979583091308, 0.7009908586151105, 0.7009910573124356, 0.7009968986232409, 0.7009948834625401, 0.7010104372106888, 0.7009917328076956, 0.7010089237935812, 0.7009981354983443, 0.7010066437826755, 0.701001288599199, 0.7010006801121437, 0.7010108615945351, 0.7009880616101869, 0.7009880616101869, 0.7009880616101869, 0.7009880616101869, 0.7009880616101869, 0.7009880686502847, 0.7009880686502847, 0.7009930295259018, 0.700988249576406, 0.7009883162938128, 0.7009883010447538, 0.700992012624143, 0.7010229613115133, 0.7009977324194683, 0.7009937744407523, 0.7010253498405172, 0.7010222872004952, 0.701003773388391, 0.7010108351898019, 0.7009928873811094, 0.7009895752312884, 0.7010024721312734, 0.7010100980889287, 0.7010146234427926, 0.7010371755988609, 0.7010181287533372, 0.7010638807267109, 0.701034693215271, 0.7010326965608026, 0.7010535997392472, 38.985938084430806, 37.53934933482402, 24.78853628684962, 19.227731761704348, 14.190474796598858, 14.082170895545824, 12.813687983473457, 0.7009964077573109, 0.7009938077451139, 0.7009938077451139, 0.7009926064867972, 0.7009895547486358, 0.7009899567099697, 0.7009877382407594, 0.7009887982875525, 0.7009953365631987, 0.7009889912295327, 0.7009890253946646, 0.7009947384800136, 0.7009868522137556, 0.7009898336491859, 0.7009929816582534, 0.7009920407941115, 0.7009927217093069, 0.7009866117330463, 0.7009876396531651, 0.7009874596906724, 0.7009874005880644, 0.7009874005880644, 0.7009874005880644, 0.7009965724257197, 0.7009882502639231, 0.7009959602351775, 0.7010065382694016, 0.7009990482840175, 0.7009958612144231, 0.7009969008171116, 0.7010057546320666, 0.7010423729530149, 0.7010076637327886, 0.7010017885260825, 0.7010248470769207, 0.7010364487960358, 0.7010648082042584, 0.7010302692741166, 0.7010171520123739, 0.7010258828169132, 0.7010380870881641, 0.7010161428879795, 0.701015308052487, 0.7010904976261525, 0.7010421678816215, 15.297011875589513, 15.101465344933116, 13.957357506408883, 8.864441429046023, 4.736756460766945, 2.9899261788899243, 0.7010113160552204, 0.7010259083222039, 0.7009929133098144, 0.7010096936507019, 0.7010010560025767, 0.7009903161876716, 0.7009946190733126, 0.7009886354012909, 0.7009886488342973, 0.7009886834914527, 0.7009887071465088, 0.7009889498971456, 0.7009895915647569, 0.7010020368188966, 0.7009918439100759, 0.7009924335571928, 0.701002895600714, 0.7009927150878608, 0.7010038085806823, 0.700988277796984, 0.7009869534349938, 0.7009869534349938, 0.7009869534349938, 0.7009869534349938, 0.7009989938108342, 0.7009892034674794, 0.700988141893395, 0.7010248872330054, 0.7010013705869415, 0.7010330411576688, 0.7010381995583418, 0.7010302746227738, 0.7010437646278286, 0.7010424583686099, 4.370334123614095, 0.7009872297196127, 0.7009863290513538, 0.700986451149975, 0.7009883162293907, 0.7009867808294136, 0.7009862457713958, 0.7009862457713958, 0.7009862457713958, 0.7009862457713958, 0.700986133849231, 0.7009865061017593, 0.7009861333596127, 0.7009871240380089, 0.7009880109115959, 0.7009856886311236, 0.7009856886311236, 0.7009856886311236, 0.7009856886311236, 0.7009856886311236, 0.7009896726397186, 0.7009878074560225, 0.7009873435516872, 0.7009887096529337, 0.7009854838690087, 0.7009882082025068, 0.7009882082025068, 0.700986159964643, 0.7009855610204466, 0.7009855683043587, 0.7009924686979763, 0.700991072477058, 0.7009919304635847, 0.7009887635241587, 0.7009916891483674, 0.7009916536053369, 0.7009952530400986, 0.700990649508292, 0.7009977045991861, 0.7010175567393444, 0.7010001254496939, 0.7009979107903572, 0.701000786638158, 0.7010017847517204, 0.7010001550445716, 0.7010020368188966, 0.7010090641280955, 0.7010405295697388, 0.7010037410453975, 0.7010128426253647, 0.7010146234427926, 0.7009852661901617, 0.7009852661901617, 0.7009852661901617, 0.7009852661901617, 0.7009852661901617, 0.7009852661901617, 0.7009852661901617, 0.7009852661901617, 0.7009852661901617, 0.7009852661901617, 0.7009852661901617, 0.7009852661901617, 0.7009852661901617, 0.7009852661901617, 0.7009852661901617, 0.7009852661901617, 0.7009852661901617, 0.7009852661901617, 0.7009852661901617, 0.7009852661901617, 0.7009852661901617, 0.7009852661901617, 0.7009852661901617, 0.7009852661901617, 0.7009852661901617, 0.7009852661901617, 0.7009852661901617, 0.7009852661901617, 0.7009852661901617, 0.7009852661901617, 4353.546178217681, 2747.4158782270742, 354.8545830632975, 275.4381428288943, 7.648576014071586, 12.573806688421449, 434.37754355155784, 4103.759861914991, 0.7009856214566375, 3393.530816331195, 1808.1787368447237, 23552.114682856667, 915.4239072764244, 7778.480836653957, 49.32568313853236, 490.26187369232133, 2971.0502456946624, 158.09305577318761, 174.95821139193365, 3857.0645615220415, 4814.145957319969, 563.6689337561355, 428.5637065954346, 1408.4214308126684, 343.07228166104136, 492.08247982466787, 650.2820534440996, 979.9926348252628, 0.7009852661901617, 0.7009852661901617, 0.7009852661901617, 0.7009852661901617, 0.7009852661901617, 0.7009852661901617, 0.7009852661901617, 0.7009852661901617, 0.7009852661901617, 0.7009852661901617, 0.7009852661901617, 0.7009852661901617, 0.7009852661901617, 0.7009852661901617, 0.7009852661901617, 0.7009852661901617, 0.7009852661901617, 0.7009852661901617, 0.7009852661901617, 0.7009852661901617, 0.7009852661901617, 0.7009852661901617, 0.7009852661901617, 0.7009852661901617, 0.7009852661901617, 0.7009852661901617, 0.7009852661901617, 0.7009852661901617, 0.7009852661901617, 0.7009852661901617, 4353.546178217681, 2747.4158782270742, 354.8545830632975, 275.4381428288943, 7.648576014071586, 12.573806688421449, 434.37754355155784, 4103.759861914991, 0.7009856214566375, 3393.530816331195, 1808.1787368447237, 23552.114682856667, 915.4239072764244, 7778.480836653957, 49.32568313853236, 490.26187369232133, 2971.0502456946624, 158.09305577318761, 174.95821139193365, 3857.0645615220415, 4814.145957319969, 563.6689337561355, 428.5637065954346, 1408.4214308126684, 343.07228166104136, 492.08247982466787, 650.2820534440996, 979.9926348252628], \"Category\": [\"Default\", \"Default\", \"Default\", \"Default\", \"Default\", \"Default\", \"Default\", \"Default\", \"Default\", \"Default\", \"Default\", \"Default\", \"Default\", \"Default\", \"Default\", \"Default\", \"Default\", \"Default\", \"Default\", \"Default\", \"Default\", \"Default\", \"Default\", \"Default\", \"Default\", \"Default\", \"Default\", \"Default\", \"Default\", \"Default\", \"Topic1\", \"Topic1\", \"Topic1\", \"Topic1\", \"Topic1\", \"Topic1\", \"Topic1\", \"Topic1\", \"Topic1\", \"Topic1\", \"Topic1\", \"Topic1\", \"Topic1\", \"Topic1\", \"Topic1\", \"Topic1\", \"Topic1\", \"Topic1\", \"Topic1\", \"Topic1\", \"Topic1\", \"Topic1\", \"Topic1\", \"Topic1\", \"Topic1\", \"Topic1\", \"Topic1\", \"Topic1\", \"Topic1\", \"Topic1\", \"Topic1\", \"Topic1\", \"Topic1\", \"Topic1\", \"Topic1\", \"Topic1\", \"Topic1\", \"Topic1\", \"Topic1\", \"Topic1\", \"Topic1\", \"Topic1\", \"Topic1\", \"Topic1\", \"Topic1\", \"Topic1\", \"Topic1\", \"Topic1\", \"Topic1\", \"Topic1\", \"Topic1\", \"Topic1\", \"Topic2\", \"Topic2\", \"Topic2\", \"Topic2\", \"Topic2\", \"Topic2\", \"Topic2\", \"Topic2\", \"Topic2\", \"Topic2\", \"Topic2\", \"Topic2\", \"Topic2\", \"Topic2\", \"Topic2\", \"Topic2\", \"Topic2\", \"Topic2\", \"Topic2\", \"Topic2\", \"Topic2\", \"Topic2\", \"Topic2\", \"Topic2\", \"Topic2\", \"Topic2\", \"Topic2\", \"Topic2\", \"Topic2\", \"Topic2\", \"Topic2\", \"Topic2\", \"Topic2\", \"Topic2\", \"Topic2\", \"Topic2\", \"Topic2\", \"Topic2\", \"Topic2\", \"Topic2\", \"Topic2\", \"Topic2\", \"Topic2\", \"Topic2\", \"Topic2\", \"Topic2\", \"Topic3\", \"Topic3\", \"Topic3\", \"Topic3\", \"Topic3\", \"Topic3\", \"Topic3\", \"Topic3\", \"Topic3\", \"Topic3\", \"Topic3\", \"Topic3\", \"Topic3\", \"Topic3\", \"Topic3\", \"Topic3\", \"Topic3\", \"Topic3\", \"Topic3\", \"Topic3\", \"Topic3\", \"Topic3\", \"Topic3\", \"Topic3\", \"Topic3\", \"Topic3\", \"Topic3\", \"Topic3\", \"Topic3\", \"Topic3\", \"Topic3\", \"Topic3\", \"Topic3\", \"Topic3\", \"Topic3\", \"Topic3\", \"Topic3\", \"Topic3\", \"Topic3\", \"Topic3\", \"Topic3\", \"Topic3\", \"Topic3\", \"Topic3\", \"Topic3\", \"Topic3\", \"Topic3\", \"Topic3\", \"Topic3\", \"Topic3\", \"Topic3\", \"Topic3\", \"Topic3\", \"Topic3\", \"Topic3\", \"Topic3\", \"Topic3\", \"Topic4\", \"Topic4\", \"Topic4\", \"Topic4\", \"Topic4\", \"Topic4\", \"Topic4\", \"Topic4\", \"Topic4\", \"Topic4\", \"Topic4\", \"Topic4\", \"Topic4\", \"Topic4\", \"Topic4\", \"Topic4\", \"Topic4\", \"Topic4\", \"Topic4\", \"Topic4\", \"Topic4\", \"Topic4\", \"Topic4\", \"Topic4\", \"Topic4\", \"Topic4\", \"Topic4\", \"Topic4\", \"Topic4\", \"Topic4\", \"Topic5\", \"Topic5\", \"Topic5\", \"Topic5\", \"Topic5\", \"Topic5\", \"Topic5\", \"Topic5\", \"Topic5\", \"Topic5\", \"Topic5\", \"Topic5\", \"Topic5\", \"Topic5\", \"Topic5\", \"Topic5\", \"Topic5\", \"Topic5\", \"Topic5\", \"Topic5\", \"Topic5\", \"Topic5\", \"Topic5\", \"Topic5\", \"Topic5\", \"Topic5\", \"Topic5\", \"Topic5\", \"Topic5\", \"Topic5\", \"Topic6\", \"Topic6\", \"Topic6\", \"Topic6\", \"Topic6\", \"Topic6\", \"Topic6\", \"Topic6\", \"Topic6\", \"Topic6\", \"Topic6\", \"Topic6\", \"Topic6\", \"Topic6\", \"Topic6\", \"Topic6\", \"Topic6\", \"Topic6\", \"Topic6\", \"Topic6\", \"Topic6\", \"Topic6\", \"Topic6\", \"Topic6\", \"Topic6\", \"Topic6\", \"Topic6\", \"Topic6\", \"Topic6\", \"Topic6\", \"Topic7\", \"Topic7\", \"Topic7\", \"Topic7\", \"Topic7\", \"Topic7\", \"Topic7\", \"Topic7\", \"Topic7\", \"Topic7\", \"Topic7\", \"Topic7\", \"Topic7\", \"Topic7\", \"Topic7\", \"Topic7\", \"Topic7\", \"Topic7\", \"Topic7\", \"Topic7\", \"Topic7\", \"Topic7\", \"Topic7\", \"Topic7\", \"Topic7\", \"Topic7\", \"Topic7\", \"Topic7\", \"Topic7\", \"Topic7\", \"Topic7\", \"Topic7\", \"Topic8\", \"Topic8\", \"Topic8\", \"Topic8\", \"Topic8\", \"Topic8\", \"Topic8\", \"Topic8\", \"Topic8\", \"Topic8\", \"Topic8\", \"Topic8\", \"Topic8\", \"Topic8\", \"Topic8\", \"Topic8\", \"Topic8\", \"Topic8\", \"Topic8\", \"Topic8\", \"Topic8\", \"Topic8\", \"Topic8\", \"Topic8\", \"Topic8\", \"Topic8\", \"Topic8\", \"Topic8\", \"Topic8\", \"Topic8\", \"Topic8\", \"Topic8\", \"Topic8\", \"Topic8\", \"Topic9\", \"Topic9\", \"Topic9\", \"Topic9\", \"Topic9\", \"Topic9\", \"Topic9\", \"Topic9\", \"Topic9\", \"Topic9\", \"Topic9\", \"Topic9\", \"Topic9\", \"Topic9\", \"Topic9\", \"Topic9\", \"Topic9\", \"Topic9\", \"Topic9\", \"Topic9\", \"Topic9\", \"Topic9\", \"Topic9\", \"Topic9\", \"Topic9\", \"Topic9\", \"Topic9\", \"Topic9\", \"Topic9\", \"Topic9\", \"Topic9\", \"Topic9\", \"Topic9\", \"Topic9\", \"Topic9\", \"Topic9\", \"Topic9\", \"Topic9\", \"Topic9\", \"Topic9\", \"Topic9\", \"Topic9\", \"Topic10\", \"Topic10\", \"Topic10\", \"Topic10\", \"Topic10\", \"Topic10\", \"Topic10\", \"Topic10\", \"Topic10\", \"Topic10\", \"Topic10\", \"Topic10\", \"Topic10\", \"Topic10\", \"Topic10\", \"Topic10\", \"Topic10\", \"Topic10\", \"Topic10\", \"Topic10\", \"Topic10\", \"Topic10\", \"Topic10\", \"Topic10\", \"Topic10\", \"Topic10\", \"Topic10\", \"Topic10\", \"Topic10\", \"Topic10\", \"Topic10\", \"Topic10\", \"Topic10\", \"Topic10\", \"Topic10\", \"Topic10\", \"Topic10\", \"Topic10\", \"Topic10\", \"Topic10\", \"Topic10\", \"Topic10\", \"Topic10\", \"Topic10\", \"Topic10\", \"Topic10\", \"Topic10\", \"Topic10\", \"Topic10\", \"Topic10\", \"Topic10\", \"Topic10\", \"Topic10\", \"Topic10\", \"Topic11\", \"Topic11\", \"Topic11\", \"Topic11\", \"Topic11\", \"Topic11\", \"Topic11\", \"Topic11\", \"Topic11\", \"Topic11\", \"Topic11\", \"Topic11\", \"Topic11\", \"Topic11\", \"Topic11\", \"Topic11\", \"Topic11\", \"Topic11\", \"Topic11\", \"Topic11\", \"Topic11\", \"Topic11\", \"Topic11\", \"Topic11\", \"Topic11\", \"Topic11\", \"Topic11\", \"Topic11\", \"Topic11\", \"Topic11\", \"Topic11\", \"Topic11\", \"Topic11\", \"Topic11\", \"Topic11\", \"Topic11\", \"Topic11\", \"Topic11\", \"Topic11\", \"Topic11\", \"Topic11\", \"Topic11\", \"Topic11\", \"Topic11\", \"Topic11\", \"Topic11\", \"Topic11\", \"Topic12\", \"Topic12\", \"Topic12\", \"Topic12\", \"Topic12\", \"Topic12\", \"Topic12\", \"Topic12\", \"Topic12\", \"Topic12\", \"Topic12\", \"Topic12\", \"Topic12\", \"Topic12\", \"Topic12\", \"Topic12\", \"Topic12\", \"Topic12\", \"Topic12\", \"Topic12\", \"Topic12\", \"Topic12\", \"Topic12\", \"Topic12\", \"Topic12\", \"Topic12\", \"Topic12\", \"Topic12\", \"Topic12\", \"Topic12\", \"Topic12\", \"Topic12\", \"Topic12\", \"Topic12\", \"Topic12\", \"Topic12\", \"Topic12\", \"Topic12\", \"Topic12\", \"Topic12\", \"Topic12\", \"Topic12\", \"Topic12\", \"Topic12\", \"Topic13\", \"Topic13\", \"Topic13\", \"Topic13\", \"Topic13\", \"Topic13\", \"Topic13\", \"Topic13\", \"Topic13\", \"Topic13\", \"Topic13\", \"Topic13\", \"Topic13\", \"Topic13\", \"Topic13\", \"Topic13\", \"Topic13\", \"Topic13\", \"Topic13\", \"Topic13\", \"Topic13\", \"Topic13\", \"Topic13\", \"Topic13\", \"Topic13\", \"Topic13\", \"Topic13\", \"Topic13\", \"Topic13\", \"Topic13\", \"Topic13\", \"Topic13\", \"Topic14\", \"Topic14\", \"Topic14\", \"Topic14\", \"Topic14\", \"Topic14\", \"Topic14\", \"Topic14\", \"Topic14\", \"Topic14\", \"Topic14\", \"Topic14\", \"Topic14\", \"Topic14\", \"Topic14\", \"Topic14\", \"Topic14\", \"Topic14\", \"Topic14\", \"Topic14\", \"Topic14\", \"Topic14\", \"Topic14\", \"Topic14\", \"Topic14\", \"Topic14\", \"Topic14\", \"Topic14\", \"Topic14\", \"Topic14\", \"Topic14\", \"Topic14\", \"Topic14\", \"Topic14\", \"Topic14\", \"Topic14\", \"Topic14\", \"Topic14\", \"Topic14\", \"Topic14\", \"Topic14\", \"Topic14\", \"Topic14\", \"Topic14\", \"Topic14\", \"Topic14\", \"Topic14\", \"Topic14\", \"Topic14\", \"Topic14\", \"Topic15\", \"Topic15\", \"Topic15\", \"Topic15\", \"Topic15\", \"Topic15\", \"Topic15\", \"Topic15\", \"Topic15\", \"Topic15\", \"Topic15\", \"Topic15\", \"Topic15\", \"Topic15\", \"Topic15\", \"Topic15\", \"Topic15\", \"Topic15\", \"Topic15\", \"Topic15\", \"Topic15\", \"Topic15\", \"Topic15\", \"Topic15\", \"Topic15\", \"Topic15\", \"Topic15\", \"Topic15\", \"Topic15\", \"Topic15\", \"Topic15\", \"Topic15\", \"Topic15\", \"Topic15\", \"Topic15\", \"Topic15\", \"Topic15\", \"Topic15\", \"Topic15\", \"Topic15\", \"Topic15\", \"Topic15\", \"Topic15\", \"Topic15\", \"Topic15\", \"Topic15\", \"Topic15\", \"Topic15\", \"Topic15\", \"Topic16\", \"Topic16\", \"Topic16\", \"Topic16\", \"Topic16\", \"Topic16\", \"Topic16\", \"Topic16\", \"Topic16\", \"Topic16\", \"Topic16\", \"Topic16\", \"Topic16\", \"Topic16\", \"Topic16\", \"Topic16\", \"Topic16\", \"Topic16\", \"Topic16\", \"Topic16\", \"Topic16\", \"Topic16\", \"Topic16\", \"Topic16\", \"Topic16\", \"Topic16\", \"Topic16\", \"Topic16\", \"Topic16\", \"Topic16\", \"Topic16\", \"Topic16\", \"Topic16\", \"Topic16\", \"Topic16\", \"Topic16\", \"Topic16\", \"Topic16\", \"Topic16\", \"Topic16\", \"Topic16\", \"Topic16\", \"Topic16\", \"Topic16\", \"Topic16\", \"Topic16\", \"Topic16\", \"Topic16\", \"Topic16\", \"Topic16\", \"Topic16\", \"Topic16\", \"Topic17\", \"Topic17\", \"Topic17\", \"Topic17\", \"Topic17\", \"Topic17\", \"Topic17\", \"Topic17\", \"Topic17\", \"Topic17\", \"Topic17\", \"Topic17\", \"Topic17\", \"Topic17\", \"Topic17\", \"Topic17\", \"Topic17\", \"Topic17\", \"Topic17\", \"Topic17\", \"Topic17\", \"Topic17\", \"Topic17\", \"Topic17\", \"Topic17\", \"Topic17\", \"Topic17\", \"Topic17\", \"Topic17\", \"Topic17\", \"Topic17\", \"Topic17\", \"Topic17\", \"Topic17\", \"Topic17\", \"Topic17\", \"Topic17\", \"Topic17\", \"Topic17\", \"Topic17\", \"Topic18\", \"Topic18\", \"Topic18\", \"Topic18\", \"Topic18\", \"Topic18\", \"Topic18\", \"Topic18\", \"Topic18\", \"Topic18\", \"Topic18\", \"Topic18\", \"Topic18\", \"Topic18\", \"Topic18\", \"Topic18\", \"Topic18\", \"Topic18\", \"Topic18\", \"Topic18\", \"Topic18\", \"Topic18\", \"Topic18\", \"Topic18\", \"Topic18\", \"Topic18\", \"Topic18\", \"Topic18\", \"Topic18\", \"Topic18\", \"Topic18\", \"Topic18\", \"Topic18\", \"Topic18\", \"Topic18\", \"Topic18\", \"Topic18\", \"Topic18\", \"Topic18\", \"Topic18\", \"Topic18\", \"Topic18\", \"Topic18\", \"Topic18\", \"Topic18\", \"Topic18\", \"Topic18\", \"Topic18\", \"Topic18\", \"Topic18\", \"Topic18\", \"Topic19\", \"Topic19\", \"Topic19\", \"Topic19\", \"Topic19\", \"Topic19\", \"Topic19\", \"Topic19\", \"Topic19\", \"Topic19\", \"Topic19\", \"Topic19\", \"Topic19\", \"Topic19\", \"Topic19\", \"Topic19\", \"Topic19\", \"Topic19\", \"Topic19\", \"Topic19\", \"Topic19\", \"Topic19\", \"Topic19\", \"Topic19\", \"Topic19\", \"Topic19\", \"Topic19\", \"Topic19\", \"Topic19\", \"Topic19\", \"Topic19\", \"Topic19\", \"Topic19\", \"Topic19\", \"Topic19\", \"Topic19\", \"Topic19\", \"Topic19\", \"Topic19\", \"Topic19\", \"Topic19\", \"Topic19\", \"Topic19\", \"Topic19\", \"Topic19\", \"Topic19\", \"Topic19\", \"Topic19\", \"Topic19\", \"Topic19\", \"Topic19\", \"Topic19\", \"Topic19\", \"Topic19\", \"Topic19\", \"Topic19\", \"Topic19\", \"Topic19\", \"Topic20\", \"Topic20\", \"Topic20\", \"Topic20\", \"Topic20\", \"Topic20\", \"Topic20\", \"Topic20\", \"Topic20\", \"Topic20\", \"Topic20\", \"Topic20\", \"Topic20\", \"Topic20\", \"Topic20\", \"Topic20\", \"Topic20\", \"Topic20\", \"Topic20\", \"Topic20\", \"Topic20\", \"Topic20\", \"Topic20\", \"Topic20\", \"Topic20\", \"Topic20\", \"Topic20\", \"Topic20\", \"Topic20\", \"Topic20\", \"Topic20\", \"Topic20\", \"Topic20\", \"Topic20\", \"Topic20\", \"Topic20\", \"Topic20\", \"Topic20\", \"Topic20\", \"Topic20\", \"Topic20\", \"Topic20\", \"Topic20\", \"Topic20\", \"Topic20\", \"Topic20\", \"Topic20\", \"Topic20\", \"Topic20\", \"Topic20\", \"Topic20\", \"Topic20\", \"Topic20\", \"Topic20\", \"Topic20\", \"Topic20\", \"Topic20\", \"Topic20\"], \"logprob\": [30.0, 29.0, 28.0, 27.0, 26.0, 25.0, 24.0, 23.0, 22.0, 21.0, 20.0, 19.0, 18.0, 17.0, 16.0, 15.0, 14.0, 13.0, 12.0, 11.0, 10.0, 9.0, 8.0, 7.0, 6.0, 5.0, 4.0, 3.0, 2.0, 1.0, -2.3581, -3.5209, -3.5998, -3.9058, -4.0464, -4.0246, -4.1105, -4.4648, -4.6365, -4.6424, -3.9829, -4.7885, -4.9253, -5.1164, -5.1302, -5.2176, -5.2962, -5.3622, -5.3633, -4.1679, -5.4418, -5.4993, -5.5381, -5.5411, -5.5901, -5.6293, -5.6412, -5.6458, -5.7847, -5.8319, -3.074, -3.5549, -3.9491, -4.5483, -4.4429, -4.8913, -4.5391, -5.2076, -4.3276, -4.5371, -4.2017, -4.8188, -3.713, -4.6455, -4.8656, -4.3443, -4.2014, -4.4994, -4.4501, -4.6012, -4.537, -4.7285, -3.6364, -4.2062, -4.3549, -4.4971, -4.512, -4.5749, -4.8751, -4.9556, -5.0292, -5.0337, -5.057, -5.0755, -5.0786, -5.0899, -5.0903, -5.1028, -5.1683, -5.1805, -5.2008, -5.2015, -5.2208, -5.2357, -5.3144, -5.3231, -5.3329, -5.3507, -5.3817, -5.3831, -5.4289, -5.433, -2.5579, -4.0966, -5.0034, -4.4471, -4.1204, -4.621, -4.8171, -4.6978, -4.5737, -4.957, -4.5555, -4.2869, -5.1434, -5.1267, -4.9567, -5.0418, -4.0193, -4.4578, -4.4843, -4.6296, -4.646, -4.6577, -4.7933, -4.8826, -4.9547, -4.9903, -5.0542, -5.0555, -5.078, -5.0966, -5.1577, -5.1701, -5.1909, -5.201, -5.2094, -5.2236, -5.2384, -5.253, -5.3112, -5.3141, -5.3162, -5.3489, -5.4001, -5.4081, -5.4356, -5.4657, -4.5158, -4.8538, -4.1827, -4.66, -4.3573, -4.8327, -4.905, -4.9408, -4.4209, -4.8896, -3.9957, -3.8657, -4.9283, -5.0353, -5.0051, -4.985, -4.7207, -4.7302, -4.8101, -4.8751, -4.382, -4.6335, -4.5221, -4.6949, -4.6608, -4.7466, -4.8076, -3.2032, -3.3264, -3.3365, -3.469, -3.4926, -3.589, -3.6116, -3.6117, -3.6119, -3.6429, -3.7044, -3.7775, -3.7894, -3.799, -3.799, -3.8424, -3.8738, -3.929, -4.0388, -4.1232, -4.1802, -4.2788, -4.2991, -4.309, -4.3152, -4.4097, -4.418, -4.4464, -4.5471, -4.5601, -2.7922, -3.1199, -3.4218, -3.5154, -3.5401, -3.8037, -3.8845, -3.9026, -4.0032, -4.0452, -4.1044, -4.1168, -4.1736, -4.178, -4.2296, -4.2304, -4.2374, -4.2555, -4.2624, -4.2679, -4.286, -4.2883, -4.3886, -4.3988, -4.4167, -4.4734, -4.4986, -4.5475, -4.575, -4.593, -2.975, -3.131, -3.228, -3.2362, -3.2489, -3.2845, -3.6407, -3.6991, -3.7305, -3.7489, -3.755, -3.767, -3.8267, -3.845, -3.8727, -3.9371, -4.0944, -4.1674, -4.1758, -4.3312, -4.3892, -4.3897, -4.4696, -4.5164, -4.5476, -4.5852, -4.6177, -4.6884, -4.7178, -4.7887, -2.8507, -3.1012, -3.1618, -3.2089, -3.2511, -3.6485, -3.7417, -3.8989, -3.9064, -4.0446, -4.0711, -4.1093, -4.2466, -4.2692, -4.3038, -4.3296, -4.3345, -4.5104, -4.5141, -4.5689, -4.6152, -4.629, -4.6454, -4.6672, -4.6982, -4.7837, -4.8752, -4.9266, -4.9449, -5.0227, -2.5623, -4.3276, -2.54, -2.7313, -2.7382, -2.7684, -2.7784, -2.8683, -2.9493, -3.4263, -3.7574, -3.8058, -3.8232, -3.8319, -4.4399, -4.4926, -4.5226, -5.0554, -5.1132, -5.3599, -5.3833, -5.4556, -5.778, -5.7852, -7.2947, -7.8514, -8.7676, -11.3088, -11.3088, -11.3089, -11.3088, -11.3089, -11.3088, -11.3089, -11.3088, -11.3088, -2.2756, -2.391, -3.1528, -3.1763, -3.3901, -3.5636, -3.9092, -3.9554, -3.9939, -4.1118, -4.215, -4.3122, -4.327, -4.3345, -4.439, -4.6598, -5.1116, -5.2501, -5.6279, -6.0282, -11.0196, -11.0196, -11.0196, -11.0196, -11.0195, -11.0196, -11.0196, -11.0196, -11.0196, -11.0196, -11.0196, -11.0195, -11.0195, -11.0195, -11.0195, -11.0195, -11.0195, -11.0195, -11.0195, -11.0195, -11.0195, -11.0195, -1.7992, -1.9292, -3.3222, -3.8281, -4.7483, -5.8893, -10.7889, -10.789, -10.789, -10.789, -10.789, -10.789, -10.789, -10.789, -10.789, -10.789, -10.789, -10.789, -10.789, -10.789, -10.789, -10.789, -10.789, -10.789, -10.789, -10.789, -10.789, -10.789, -10.789, -10.789, -10.789, -10.789, -10.789, -10.789, -10.789, -10.789, -10.789, -10.789, -10.789, -10.789, -10.789, -10.789, -10.789, -10.789, -10.789, -10.789, -10.789, -10.789, -10.789, -10.789, -10.789, -10.789, -10.789, -10.789, -2.5429, -2.8544, -3.4708, -3.4986, -3.5193, -3.5274, -3.7123, -3.7316, -3.8602, -4.1173, -4.4852, -10.7472, -10.7472, -10.7471, -10.7472, -10.7472, -10.7472, -10.7472, -10.7472, -10.7472, -10.7472, -10.7472, -10.7472, -10.7472, -10.7472, -10.7472, -10.7472, -10.7472, -10.7472, -10.7472, -10.7472, -10.7472, -10.7472, -10.7472, -10.7472, -10.7471, -10.7471, -10.7472, -10.7472, -10.7472, -10.7472, -10.7472, -10.7472, -10.7472, -10.7472, -10.7472, -10.7472, -2.8335, -3.0573, -3.3785, -3.436, -3.8696, -3.9369, -3.9853, -4.0385, -4.2112, -4.3879, -4.7437, -5.3016, -5.3809, -5.6358, -7.1155, -10.6654, -10.6654, -10.6654, -10.6654, -10.6654, -10.6655, -10.6655, -10.6655, -10.6655, -10.6655, -10.6655, -10.6655, -10.6655, -10.6655, -10.6655, -10.6655, -10.6655, -10.6655, -10.6654, -10.6654, -10.6655, -10.6655, -10.6655, -10.6655, -10.6655, -10.6654, -10.6655, -10.6655, -10.6655, -1.7496, -3.2412, -3.3631, -3.954, -4.2713, -4.4921, -5.055, -5.1613, -6.0175, -10.6765, -10.6765, -10.6766, -10.6766, -10.6767, -10.6767, -10.6767, -10.6767, -10.6767, -10.6767, -10.6767, -10.6767, -10.6767, -10.6768, -10.6768, -10.6768, -10.6768, -10.6768, -10.6768, -10.6768, -10.6768, -10.6768, -10.6768, -2.3565, -3.0505, -3.3729, -3.3984, -4.7668, -10.5574, -10.5574, -10.5574, -10.5574, -10.5574, -10.5574, -10.5574, -10.5574, -10.5574, -10.5574, -10.5574, -10.5574, -10.5574, -10.5574, -10.5574, -10.5574, -10.5574, -10.5574, -10.5574, -10.5574, -10.5574, -10.5574, -10.5574, -10.5574, -10.5574, -10.5574, -10.5574, -10.5574, -10.5574, -10.5574, -10.5574, -10.5574, -10.5574, -10.5574, -10.5574, -10.5574, -10.5574, -10.5574, -10.5574, -10.5574, -10.5574, -10.5574, -10.5574, -10.5574, -10.5574, -2.5672, -2.9843, -3.4007, -3.4971, -3.6619, -4.7325, -10.5665, -10.5665, -10.5665, -10.5665, -10.5665, -10.5665, -10.5665, -10.5665, -10.5665, -10.5665, -10.5665, -10.5665, -10.5665, -10.5665, -10.5665, -10.5665, -10.5665, -10.5665, -10.5665, -10.5665, -10.5665, -10.5665, -10.5665, -10.5665, -10.5665, -10.5665, -10.5665, -10.5665, -10.5665, -10.5665, -10.5665, -10.5665, -10.5665, -10.5665, -10.5665, -10.5665, -10.5665, -10.5665, -10.5665, -10.5665, -10.5665, -10.5665, -10.5665, -2.8465, -2.885, -3.3096, -3.5719, -3.8888, -3.8969, -3.9964, -10.5824, -10.5824, -10.5824, -10.5824, -10.5824, -10.5824, -10.5824, -10.5824, -10.5824, -10.5824, -10.5824, -10.5824, -10.5824, -10.5824, -10.5824, -10.5824, -10.5824, -10.5824, -10.5824, -10.5824, -10.5824, -10.5824, -10.5824, -10.5824, -10.5824, -10.5824, -10.5824, -10.5824, -10.5824, -10.5824, -10.5824, -10.5824, -10.5824, -10.5824, -10.5824, -10.5824, -10.5824, -10.5824, -10.5824, -10.5824, -10.5824, -10.5824, -10.5824, -10.5824, -10.5824, -3.2205, -3.234, -3.3167, -3.801, -4.5042, -5.0694, -10.4797, -10.4797, -10.4798, -10.4798, -10.4798, -10.4798, -10.4798, -10.4798, -10.4798, -10.4798, -10.4798, -10.4798, -10.4798, -10.4798, -10.4798, -10.4798, -10.4798, -10.4798, -10.4798, -10.4798, -10.4798, -10.4798, -10.4798, -10.4798, -10.4798, -10.4798, -10.4798, -10.4798, -10.4798, -10.4798, -10.4798, -10.4798, -10.4798, -10.4798, -3.601, -10.3389, -10.3389, -10.3389, -10.3389, -10.3389, -10.3389, -10.3389, -10.3389, -10.3389, -10.3389, -10.3389, -10.3389, -10.3389, -10.3389, -10.3389, -10.3389, -10.3389, -10.3389, -10.3389, -10.3389, -10.3389, -10.3389, -10.3389, -10.3389, -10.3389, -10.3389, -10.3389, -10.3389, -10.3389, -10.3389, -10.3389, -10.3389, -10.3389, -10.3389, -10.3389, -10.3389, -10.3389, -10.3389, -10.3389, -10.3389, -10.3389, -10.3389, -10.3389, -10.3389, -10.3389, -10.3389, -10.3389, -10.3389, -10.3389, -10.3389, -10.3113, -10.3113, -10.3113, -10.3113, -10.3113, -10.3113, -10.3113, -10.3113, -10.3113, -10.3113, -10.3113, -10.3113, -10.3113, -10.3113, -10.3113, -10.3113, -10.3113, -10.3113, -10.3113, -10.3113, -10.3113, -10.3113, -10.3113, -10.3113, -10.3113, -10.3113, -10.3113, -10.3113, -10.3113, -10.3113, -10.3113, -10.3113, -10.3113, -10.3113, -10.3113, -10.3113, -10.3113, -10.3113, -10.3113, -10.3113, -10.3113, -10.3113, -10.3113, -10.3113, -10.3113, -10.3113, -10.3113, -10.3113, -10.3113, -10.3113, -10.3113, -10.3113, -10.3113, -10.3113, -10.3113, -10.3113, -10.3113, -10.3113, -10.3113, -10.3113, -10.3113, -10.3113, -10.3113, -10.3113, -10.3113, -10.3113, -10.3113, -10.3113, -10.3113, -10.3113, -10.3113, -10.3113, -10.3113, -10.3113, -10.3113, -10.3113, -10.3113, -10.3113, -10.3113, -10.3113, -10.3113, -10.3113, -10.3113, -10.3113, -10.3113, -10.3113, -10.3113, -10.3113, -10.3113, -10.3113, -10.3113, -10.3113, -10.3113, -10.3113, -10.3113, -10.3113, -10.3113, -10.3113, -10.3113, -10.3113, -10.3113, -10.3113, -10.3113, -10.3113, -10.3113, -10.3113, -10.3113, -10.3113, -10.3113, -10.3113, -10.3113, -10.3113, -10.3113, -10.3113, -10.3113, -10.3113], \"loglift\": [30.0, 29.0, 28.0, 27.0, 26.0, 25.0, 24.0, 23.0, 22.0, 21.0, 20.0, 19.0, 18.0, 17.0, 16.0, 15.0, 14.0, 13.0, 12.0, 11.0, 10.0, 9.0, 8.0, 7.0, 6.0, 5.0, 4.0, 3.0, 2.0, 1.0, 0.769, 0.7689, 0.7689, 0.7689, 0.7689, 0.7688, 0.7688, 0.7688, 0.7687, 0.7687, 0.7687, 0.7687, 0.7686, 0.7686, 0.7686, 0.7685, 0.7685, 0.7685, 0.7685, 0.7684, 0.7684, 0.7684, 0.7684, 0.7683, 0.7683, 0.7683, 0.7683, 0.7683, 0.7682, 0.7681, 0.7672, 0.763, 0.7656, 0.7662, 0.7544, 0.7603, 0.7481, 0.7596, 0.7075, 0.7093, 0.6766, 0.7088, 0.5219, 0.6709, 0.7008, 0.5301, 0.4344, 0.469, 0.3251, 0.4632, 0.3748, 0.3854, 1.467, 1.4669, 1.4668, 1.4667, 1.4667, 1.4667, 1.4665, 1.4665, 1.4664, 1.4664, 1.4664, 1.4664, 1.4664, 1.4664, 1.4664, 1.4664, 1.4663, 1.4663, 1.4663, 1.4663, 1.4663, 1.4662, 1.4662, 1.4662, 1.4661, 1.4661, 1.4661, 1.4661, 1.466, 1.466, 1.4516, 1.4598, 1.4571, 1.439, 1.4088, 1.2535, 1.2822, 1.1988, 1.0428, 1.2623, 0.7385, -0.052, 1.3726, 1.294, -0.0823, 0.4622, 1.5114, 1.5113, 1.5113, 1.5112, 1.5112, 1.5112, 1.5111, 1.511, 1.511, 1.511, 1.5109, 1.5109, 1.5109, 1.5109, 1.5108, 1.5108, 1.5108, 1.5108, 1.5108, 1.5107, 1.5107, 1.5107, 1.5107, 1.5107, 1.5107, 1.5106, 1.5106, 1.5105, 1.5105, 1.5105, 1.5064, 1.5064, 1.4992, 1.4956, 1.4837, 1.4925, 1.4696, 1.4639, 1.3685, 1.4264, 1.1817, 1.0324, 1.4092, 1.4467, 1.4329, 1.3667, 1.1007, 1.1032, 1.1337, 1.2031, 0.2538, 0.6351, 0.3897, 0.5807, 0.1145, 0.3673, 0.1608, 3.8501, 3.8499, 3.8499, 3.8497, 3.8496, 3.8494, 3.8494, 3.8494, 3.8494, 3.8493, 3.8492, 3.849, 3.849, 3.849, 3.849, 3.8489, 3.8488, 3.8486, 3.8483, 3.848, 3.8478, 3.8474, 3.8474, 3.8473, 3.8473, 3.8469, 3.8468, 3.8467, 3.8462, 3.8461, 4.1887, 4.1882, 4.1876, 4.1873, 4.1873, 4.1864, 4.1861, 4.1861, 4.1857, 4.1855, 4.1852, 4.1851, 4.1849, 4.1848, 4.1846, 4.1846, 4.1845, 4.1844, 4.1844, 4.1844, 4.1842, 4.1842, 4.1836, 4.1836, 4.1835, 4.1831, 4.1829, 4.1825, 4.1823, 4.1822, 4.34, 4.3397, 4.3395, 4.3395, 4.3394, 4.3394, 4.3383, 4.3381, 4.338, 4.3379, 4.3379, 4.3378, 4.3376, 4.3375, 4.3374, 4.3371, 4.3363, 4.3359, 4.3358, 4.3348, 4.3344, 4.3344, 4.3338, 4.3334, 4.3331, 4.3328, 4.3325, 4.3318, 4.3315, 4.3308, 4.506, 4.5055, 4.5053, 4.5052, 4.5051, 4.5037, 4.5033, 4.5025, 4.5025, 4.5017, 4.5015, 4.5013, 4.5003, 4.5001, 4.4999, 4.4997, 4.4996, 4.498, 4.498, 4.4974, 4.497, 4.4968, 4.4966, 4.4964, 4.496, 4.495, 4.4937, 4.493, 4.4927, 4.4915, 3.9512, 2.8227, 4.9729, 4.9724, 4.9724, 4.9723, 4.9723, 4.972, 4.9717, 4.9697, 4.9676, 4.9672, 4.967, 4.967, 4.9602, 4.9594, 4.959, 4.9478, 4.9462, 4.9382, 4.9374, 4.9346, 4.9196, 4.9192, 4.7439, 4.6009, 4.2168, 2.2404, 2.2404, 2.2404, 2.2404, 2.2404, 2.2404, 2.2404, 2.2404, 2.2403, 5.3881, 5.3877, 5.3844, 5.3842, 5.3827, 5.3812, 5.3773, 5.3767, 5.3762, 5.3743, 5.3726, 5.3708, 5.3705, 5.3703, 5.3681, 5.3626, 5.3469, 5.3405, 5.3183, 5.2845, 2.5297, 2.5297, 2.5297, 2.5297, 2.5297, 2.5297, 2.5297, 2.5297, 2.5297, 2.5297, 2.5297, 2.5297, 2.5297, 2.5297, 2.5297, 2.5297, 2.5297, 2.5297, 2.5297, 2.5297, 2.5297, 2.5296, 5.8971, 5.8967, 5.8873, 5.8791, 5.8486, 5.7475, 2.7603, 2.7603, 2.7603, 2.7603, 2.7603, 2.7603, 2.7603, 2.7603, 2.7603, 2.7603, 2.7603, 2.7603, 2.7603, 2.7603, 2.7603, 2.7603, 2.7603, 2.7603, 2.7603, 2.7603, 2.7603, 2.7603, 2.7603, 2.7603, 2.7603, 2.7603, 2.7603, 2.7603, 2.7603, 2.7603, 2.7603, 2.7603, 2.7602, 2.7602, 2.7602, 2.7602, 2.7602, 2.7602, 2.7602, 2.7602, 2.7602, 2.7602, 2.7602, 2.7603, 2.7602, 2.7602, 2.7602, 2.7602, 6.0415, 6.039, 6.0313, 6.0308, 6.0304, 6.0303, 6.0267, 6.0263, 6.0233, 6.0161, 6.0022, 2.8021, 2.8021, 2.8021, 2.8021, 2.8021, 2.8021, 2.8021, 2.8021, 2.8021, 2.8021, 2.8021, 2.8021, 2.8021, 2.8021, 2.8021, 2.8021, 2.8021, 2.8021, 2.8021, 2.8021, 2.8021, 2.8021, 2.8021, 2.8021, 2.802, 2.802, 2.802, 2.8021, 2.8021, 2.8021, 2.802, 2.8021, 2.802, 2.802, 2.802, 2.8021, 6.171, 6.1684, 6.1636, 6.1625, 6.1525, 6.1506, 6.1491, 6.1473, 6.1411, 6.1335, 6.1138, 6.0662, 6.0572, 6.0239, 5.6227, 2.8839, 2.8839, 2.8838, 2.8838, 2.8838, 2.8838, 2.8838, 2.8838, 2.8838, 2.8838, 2.8838, 2.8838, 2.8838, 2.8838, 2.8838, 2.8838, 2.8838, 2.8838, 2.8838, 2.8838, 2.8838, 2.8838, 2.8838, 2.8838, 2.8838, 2.8837, 2.8838, 2.8838, 2.8838, 6.5149, 6.498, 6.4952, 6.4758, 6.4599, 6.4456, 6.393, 6.3797, 6.2167, 2.8728, 2.8727, 2.8727, 2.8726, 2.8726, 2.8726, 2.8726, 2.8726, 2.8726, 2.8725, 2.8725, 2.8725, 2.8725, 2.8725, 2.8725, 2.8725, 2.8725, 2.8725, 2.8725, 2.8725, 2.8725, 2.8725, 2.8725, 6.6367, 6.6265, 6.6188, 6.6181, 6.538, 2.9919, 2.9919, 2.9919, 2.9919, 2.9919, 2.9919, 2.9919, 2.9919, 2.9919, 2.9919, 2.9919, 2.9919, 2.9919, 2.9919, 2.9919, 2.9919, 2.9919, 2.9919, 2.9919, 2.9919, 2.9919, 2.9919, 2.9919, 2.9919, 2.9919, 2.9919, 2.9919, 2.9919, 2.9919, 2.9919, 2.9919, 2.9919, 2.9918, 2.9919, 2.9919, 2.9919, 2.9919, 2.9919, 2.9919, 2.9918, 2.9919, 2.9918, 2.9919, 2.9918, 2.9918, 6.6667, 6.66, 6.6499, 6.6469, 6.6411, 6.5709, 2.9828, 2.9828, 2.9828, 2.9828, 2.9828, 2.9828, 2.9828, 2.9828, 2.9828, 2.9828, 2.9828, 2.9828, 2.9828, 2.9828, 2.9828, 2.9828, 2.9828, 2.9828, 2.9828, 2.9828, 2.9828, 2.9828, 2.9828, 2.9828, 2.9828, 2.9827, 2.9828, 2.9828, 2.9827, 2.9827, 2.9827, 2.9827, 2.9828, 2.9828, 2.9827, 2.9827, 2.9827, 2.9827, 2.9827, 2.9827, 2.9827, 2.9827, 2.9827, 6.6843, 6.6836, 6.674, 6.6658, 6.6526, 6.6522, 6.6472, 2.9669, 2.9669, 2.9669, 2.9669, 2.9669, 2.9669, 2.9669, 2.9669, 2.9669, 2.9669, 2.9669, 2.9669, 2.9669, 2.9669, 2.9669, 2.9669, 2.9668, 2.9668, 2.9668, 2.9668, 2.9668, 2.9668, 2.9668, 2.9668, 2.9668, 2.9668, 2.9668, 2.9668, 2.9668, 2.9668, 2.9668, 2.9668, 2.9668, 2.9668, 2.9668, 2.9668, 2.9668, 2.9668, 2.9668, 2.9668, 2.9668, 2.9668, 2.9668, 2.9667, 2.9668, 7.2459, 7.2452, 7.2413, 7.2109, 7.1345, 7.0294, 3.0696, 3.0695, 3.0695, 3.0695, 3.0695, 3.0695, 3.0695, 3.0695, 3.0695, 3.0695, 3.0695, 3.0695, 3.0695, 3.0695, 3.0695, 3.0695, 3.0695, 3.0695, 3.0695, 3.0695, 3.0694, 3.0694, 3.0694, 3.0694, 3.0694, 3.0694, 3.0694, 3.0694, 3.0694, 3.0694, 3.0694, 3.0694, 3.0694, 3.0694, 8.1182, 3.2104, 3.2104, 3.2104, 3.2104, 3.2104, 3.2104, 3.2104, 3.2104, 3.2104, 3.2104, 3.2104, 3.2104, 3.2104, 3.2104, 3.2104, 3.2104, 3.2104, 3.2104, 3.2104, 3.2104, 3.2104, 3.2104, 3.2104, 3.2104, 3.2104, 3.2104, 3.2104, 3.2104, 3.2104, 3.2104, 3.2104, 3.2104, 3.2104, 3.2104, 3.2104, 3.2104, 3.2104, 3.2104, 3.2103, 3.2104, 3.2104, 3.2104, 3.2104, 3.2104, 3.2104, 3.2103, 3.2103, 3.2103, 3.2103, 3.2103, 3.238, 3.238, 3.238, 3.238, 3.238, 3.238, 3.238, 3.238, 3.238, 3.238, 3.238, 3.238, 3.238, 3.238, 3.238, 3.238, 3.238, 3.238, 3.238, 3.238, 3.238, 3.238, 3.238, 3.238, 3.238, 3.238, 3.238, 3.238, 3.238, 3.238, -5.496, -5.0357, -2.989, -2.7356, 0.8482, 0.3511, -3.1912, -5.4369, 3.238, -5.2469, -4.6173, -7.1842, -3.9366, -6.0764, -1.0157, -3.3122, -5.1139, -2.1804, -2.2818, -5.3749, -5.5966, -3.4517, -3.1777, -4.3675, -2.9552, -3.3159, -3.5947, -4.0048, 3.238, 3.238, 3.238, 3.238, 3.238, 3.238, 3.238, 3.238, 3.238, 3.238, 3.238, 3.238, 3.238, 3.238, 3.238, 3.238, 3.238, 3.238, 3.238, 3.238, 3.238, 3.238, 3.238, 3.238, 3.238, 3.238, 3.238, 3.238, 3.238, 3.238, -5.496, -5.0357, -2.989, -2.7356, 0.8482, 0.3511, -3.1912, -5.4369, 3.238, -5.2469, -4.6173, -7.1842, -3.9366, -6.0764, -1.0157, -3.3122, -5.1139, -2.1804, -2.2818, -5.3749, -5.5966, -3.4517, -3.1777, -4.3675, -2.9552, -3.3159, -3.5947, -4.0048]}, \"token.table\": {\"Topic\": [3, 16, 4, 1, 2, 1, 2, 7, 2, 1, 2, 3, 1, 7, 9, 7, 6, 11, 1, 2, 14, 3, 2, 5, 7, 4, 4, 2, 3, 3, 3, 15, 1, 1, 17, 7, 3, 7, 2, 3, 9, 17, 9, 1, 3, 1, 1, 2, 5, 8, 2, 8, 11, 6, 3, 7, 6, 1, 2, 3, 1, 8, 10, 14, 6, 3, 4, 8, 4, 11, 12, 2, 4, 6, 5, 2, 10, 16, 4, 9, 15, 3, 11, 1, 9, 8, 5, 4, 3, 7, 5, 8, 8, 9, 12, 3, 12, 7, 5, 6, 9, 5, 6, 6, 1, 4, 16, 1, 2, 4, 4, 1, 11, 13, 13, 1, 2, 3, 12, 9, 1, 2, 4, 18, 2, 3, 3, 2, 2, 9, 4, 2, 4, 6, 1, 3, 9, 3, 3, 1, 2, 3, 1, 5, 1, 2, 11, 17, 1, 3, 6, 7, 8, 3, 14, 5, 2, 1, 2, 4, 17, 6, 16, 1, 3, 8, 3, 1, 2, 3, 5, 1, 3, 6, 12, 1, 2, 12, 5, 1, 2, 2, 7, 5, 10, 12, 1, 3, 7, 1, 2, 6, 3, 9, 6, 9, 4, 1, 2, 3, 2, 3, 7, 7, 10, 8, 17, 6, 7, 4, 6, 7, 11, 7, 8, 5, 3, 4, 1, 3, 10, 1, 3, 2, 3, 5, 2, 3, 13, 1, 3, 11, 3, 2, 1, 5, 4, 1, 2, 3, 1, 2, 3, 2, 3, 1, 16, 1, 7, 2, 2, 5, 6, 1, 2, 3, 3, 7, 1, 2, 3, 5, 4, 4, 3, 5, 1, 2, 3, 15, 9, 6, 7, 1, 3, 10, 1, 6, 2, 8, 7, 3, 14, 7, 8, 1, 3, 2, 3, 1, 1, 7, 2, 9, 2, 2, 2, 8, 17, 5, 12, 1, 2, 3, 5, 2, 3, 13, 1, 2, 4, 4, 3, 13, 4, 6, 1, 2, 3, 3, 1, 2, 3, 5, 13, 4, 8, 3, 1, 8, 1, 4, 4, 6, 13, 8, 9, 13, 8, 2, 1, 2, 2, 1, 1, 1, 2, 8, 2, 1, 2, 7, 15, 1, 2, 3, 6, 14, 12, 7, 6, 3, 1, 3, 8, 16, 1, 9, 1, 3, 12, 5, 1, 15, 2, 11, 12, 1, 2, 2, 15, 5, 8, 8, 13, 5, 4, 6, 3, 5, 7, 12, 6, 9, 1, 1, 3, 1, 9, 1, 2, 6, 7, 11, 8, 1, 6, 6, 9, 1, 2, 3, 2, 5, 2, 3, 7, 6, 6, 1, 3, 1, 1, 2, 3, 5, 6, 9, 3, 5, 1, 3, 1, 2, 3, 7, 2, 12, 1, 12, 2, 7, 4, 4, 1, 1, 3, 2, 7, 8, 5, 1, 2, 1, 16, 5, 7, 7, 3, 6, 2, 11, 2, 2, 3, 2, 8, 1, 2, 1, 2, 3, 12], \"Freq\": [0.999361730718242, 0.9364985330903236, 0.9984062192352036, 0.16838021608986908, 0.8311181109460534, 0.9990882326683779, 0.9988416471759674, 0.9919591712796244, 0.9994053871457003, 0.7364011512651334, 0.05215806473546563, 0.21098968559657283, 0.9995398447462098, 0.998548652284974, 0.9768337062726352, 0.9832980010793655, 0.9959942946529902, 0.974917388115465, 0.007229644322716894, 0.9928711536531202, 0.9760645342405149, 0.9992555124263275, 0.9984556998131566, 0.9908747717553472, 0.9955123527856357, 0.9995279530677436, 0.996872165344666, 0.004607477955086769, 0.9944473253062277, 0.9996760436094831, 0.9985752247971551, 0.9769413717489742, 0.9999011508978168, 0.9999526716444923, 0.9270623532369537, 0.9965684751729943, 0.998779441567328, 0.9937369465265402, 0.9986326651879021, 0.9996566961987469, 0.9854989621826232, 0.9805836670583047, 0.996324025528959, 0.040418433149820895, 0.9591184947443985, 0.9990940651617504, 0.7810008313414142, 0.2189373523908524, 0.991617226643072, 0.9990822476258638, 0.9995419232375388, 0.9061651884474027, 0.9346925283366929, 0.9964527671025392, 0.9933972908673627, 0.9950957158371029, 0.9974874331068209, 0.5815545532132199, 0.0021686310250337596, 0.4160157183023096, 0.9994658493626088, 0.997730613585801, 0.9859125244129273, 0.9889565754438296, 0.9969561968608885, 0.9998032913583845, 0.9913515979433825, 0.9392401333996987, 0.9986039567756658, 0.9853970897049636, 0.9881297668330008, 0.9991966819651604, 0.9987952739745559, 0.9902861826482321, 0.995071036188342, 0.9994686052969944, 0.8428731132899779, 0.986577278115845, 0.9984499982563881, 0.977362257979399, 0.9471296211060911, 0.9986446520437137, 0.971967529891952, 0.9992472182186191, 0.9976071341850465, 0.9990516472655308, 0.9934259950189959, 0.994788721206952, 0.42670633075088316, 0.5735435092739812, 0.9983352774503133, 0.9447291263820922, 0.9692236190781011, 0.9805678838890938, 0.9830292933741916, 0.9992888497381432, 0.9661165099736149, 0.9888966838007734, 0.9945199674013306, 0.9928012607657316, 0.9915179474256797, 0.9879209860735183, 0.9964490293634296, 0.9928437642364463, 0.9998745440623983, 0.9952207227560099, 0.9881560776628932, 0.9855100916731225, 0.014136415249409544, 0.9975304490827461, 0.9969906024992596, 0.9930859975611086, 0.9732868101432371, 0.9794176661703252, 0.9453456258144917, 0.5925568141691601, 0.01310322193494457, 0.3941885932095825, 0.9332018511120194, 0.9828289797657004, 0.2800668777427792, 0.7201719713385751, 0.9950882788668235, 0.9152618282402988, 0.004306887613321595, 0.9948910386772885, 0.9989121797270168, 0.9998379405144324, 0.9987937591828123, 0.9623024960511631, 0.9973486926306652, 0.9998186249328839, 0.9979163026204863, 0.9865663989679365, 0.9996275497475346, 0.00021552987273556158, 0.9728741627002653, 0.9984226845295361, 0.998173861867235, 0.28945573498107285, 0.09132827500264885, 0.6190859297310705, 0.9992338984005125, 0.9988408107175604, 0.9994647324437766, 0.0005185290440694043, 0.9791346820011728, 0.8444597127022963, 0.0756508851623982, 0.9241046587529872, 0.986734601473003, 0.9924508313182668, 0.9980814802397944, 0.9992954998718896, 0.9071812126552988, 0.9941358676228519, 0.9987344444911616, 0.19211717416033863, 0.8075546044877683, 0.9991421855749519, 0.9314083983326151, 0.9852070369406479, 0.968189477679328, 0.993943745474808, 0.006006124375409885, 0.9606152339391489, 0.9995361361078055, 0.90645921318676, 0.030329041010012884, 0.06293276009577672, 0.9945951525626037, 0.7156314564758792, 0.284294578068878, 0.9987662011221946, 0.9876074476203216, 0.9966461429580424, 0.003323538617617482, 0.9849912879839484, 0.9928062797237894, 0.5171673472645953, 0.4826895241136223, 0.9995953572981857, 0.9869009586827941, 0.993386327874751, 0.9953444483980404, 0.9846250443344864, 0.941739251971117, 0.058068457108114625, 0.9910765245162252, 0.998777758113112, 0.9994472225276567, 0.9908187476516437, 0.9997948989013955, 0.9991036608349482, 0.9941410752474729, 0.9843961577303993, 0.9970669267330401, 0.17956908131400304, 0.8146076553359201, 0.005611533791062595, 0.01871562805608195, 0.9804909587158488, 0.9960905125508759, 0.9968007447799632, 0.9791890188182945, 0.9903330869909597, 0.6689128360829778, 0.9914469123473101, 0.9949194659761179, 0.9988795807957389, 0.9983721739248788, 0.9926726841317912, 0.9898983788467851, 0.9966636555225483, 0.9573120294296809, 0.9970350811793576, 0.99907879036332, 0.9971428951829179, 0.674193796183252, 0.3255862723031315, 0.968370964794536, 0.9995385057752806, 0.9988132506227052, 0.09683543440043958, 0.9020431226214861, 0.9994296680524207, 0.027547629470731257, 0.9724953845713965, 0.9426375521005063, 0.13450821867671306, 0.8646956914931554, 0.9954974045213862, 0.9996967052378386, 0.9986846609109465, 0.9995419453427408, 0.9976997189452823, 0.9991255968822058, 0.9795146421804096, 0.020253122300722754, 0.9995103549855205, 0.10153211025586856, 0.21300442711021375, 0.6851642405378543, 0.062023685640978626, 0.9364360381088931, 0.9998299722149667, 0.974710417835898, 0.9999195330274382, 0.9966810318548333, 0.9985566928236506, 0.9986003415753496, 0.9908193747578198, 0.9984409706202898, 0.6415308782231502, 0.11100448288484506, 0.24716703942549992, 0.9836751441174288, 0.015794962171377092, 0.31884451339086656, 0.6540662730554213, 0.026613025194743276, 0.9947190149254355, 0.9969556911003087, 0.9970232741812569, 0.9993339668799979, 0.9944801231692524, 0.06862888752569812, 0.840703872189802, 0.09036136857550253, 0.9911823570831843, 0.9143785125235615, 0.9924634934301779, 0.991294635727532, 0.996874473053172, 0.9993625664344162, 0.9978983899975944, 0.9998569314091343, 0.9826528564057336, 0.9987917658971109, 0.9872239324830676, 0.9948936470616149, 0.9984785068373683, 0.9588447749638104, 0.98924431945122, 0.9123528923608785, 0.3366977370117184, 0.6627166278868711, 0.9432921982711802, 0.056287948181273806, 0.9994749835442496, 0.9978002065323407, 0.9922181007793215, 0.9997803546895832, 0.9811712827717184, 0.9980295141409246, 0.9975917372803239, 0.9988978469908256, 0.8108865211822758, 0.9024821320141485, 0.9924597728013885, 0.9642631951249747, 0.9341776591982257, 0.06425818187293683, 0.0014604132243849282, 0.9971346533061747, 0.012021785549967438, 0.9874257494905073, 0.9370882610419413, 0.9964906713448217, 0.0030755884918050053, 0.9980912518763703, 0.9987661495811144, 0.9995050832030025, 0.957370953100244, 0.9963822308441104, 0.9945160969654058, 0.9988080035905685, 0.04615509667817887, 0.9534967533272561, 0.9994405660527802, 0.9906944450523296, 0.0036342422782550607, 0.005087939189557085, 0.998296205498921, 0.9609352486315667, 0.9958808581304395, 0.9968829056672849, 0.9991319205234706, 0.998987099708724, 0.9767066776913673, 0.9987021094355156, 0.9973683489824622, 0.9927900707589293, 0.9984092877464452, 0.8722939145574926, 0.9972206700978659, 0.9644948567993996, 0.9977184391185492, 0.9977289085523326, 0.9983917275269252, 0.9982582124980576, 0.0017344422074503651, 0.9992208991439608, 0.998871683830255, 0.9998948740467386, 0.00952323420961102, 0.990416357799546, 0.9869933385096764, 0.9990722603680378, 0.9913065603806468, 0.008481767361545642, 0.9956432849388327, 0.9489486951129307, 0.23500380243983965, 0.7646089134137722, 0.9989657431597612, 0.9981708135708031, 0.9796803325077342, 0.6339205320559484, 0.9816972378535855, 0.9152030374178987, 0.9993944969348058, 0.9421104367744142, 0.057622514519410695, 0.9978309904517743, 0.9231531200996778, 0.9992500490554688, 0.9849810625853171, 0.7407462698443367, 0.25887301877104213, 0.9857740984400307, 0.9973769135390022, 0.9997858013304336, 0.943898455753737, 0.9996565072320104, 0.9840380781323641, 0.9849205978545715, 0.08933696950853133, 0.9097271683756077, 0.998764804672122, 0.9058386382678156, 0.9971400763061734, 0.9949004831657823, 0.47626476305229015, 0.7659429463322929, 0.9987398260386335, 0.9965752297564039, 0.9903625888535352, 0.9988512425717038, 0.9985513984263182, 0.9839122085488933, 0.9666036552234158, 0.9543649188634468, 0.9882887985183636, 0.9997892315545001, 0.9971047849353474, 0.002648855216147033, 0.9998271002729655, 0.9506632961999304, 0.015392906972609342, 0.9845303299680934, 0.998738825753987, 0.9974397688667568, 0.9656772480756278, 0.9956870187974357, 0.9991885445834389, 0.9860324401419078, 0.9914126131791211, 0.9696755659203649, 0.13329094372962572, 0.14780777918532753, 0.7189132831357783, 0.9985824619767179, 0.9976711441965797, 0.33504307992177335, 0.6643643615147119, 0.9814827913215198, 0.9938274550285053, 0.9905093811838853, 0.9403687207267772, 0.05952425255969862, 0.9998655677162913, 0.911749081191738, 0.016390444979835377, 0.07167761759838456, 0.9910847455619798, 0.9955424540655003, 0.9971169264712795, 0.9987110776774412, 0.9946656936415311, 0.13324710619684155, 0.8664104074169057, 0.0016242745929240796, 0.26394462135016294, 0.734172116001684, 0.9958828987986633, 0.9995316709408415, 0.9670056286129686, 0.9991308400787229, 0.8637733783573142, 0.999817710092313, 0.9917129259222709, 0.9975393206517366, 0.9991076078926144, 0.9990647519633066, 0.681526992389073, 0.3183142881308346, 0.8137984283483255, 0.18506203326871543, 0.9906752996611558, 0.9903847069891485, 0.7875704497221262, 0.21224438790469427, 0.9996429635221167, 0.9856324271895762, 0.9935081221153141, 0.9942121308642122, 0.9939661012312182, 0.9990480640678056, 0.9986639345083732, 0.9993852717626365, 0.9933401514311487, 0.9986666755463052, 0.9724121413418061, 0.027476842036536216, 0.9997976381521952, 0.9985815333249272, 0.6334887256026519, 0.3659140653300516, 0.016481913381846774, 0.06489753394102167, 0.9178365514515923, 0.8624051261672441], \"Term\": [\"able\", \"absolute\", \"absolutely\", \"action\", \"action\", \"actually\", \"add\", \"adorable\", \"adventure\", \"also\", \"also\", \"also\", \"amazing\", \"angel\", \"angle\", \"anthology\", \"ash\", \"audio\", \"author\", \"author\", \"average\", \"away\", \"awesome\", \"baby\", \"band\", \"battle\", \"beast\", \"become\", \"become\", \"begin\", \"believe\", \"best_friend\", \"bit\", \"book\", \"bored\", \"boring\", \"boy\", \"brave\", \"bring\", \"call\", \"capable\", \"cass\", \"chance\", \"change\", \"change\", \"chapter\", \"character\", \"character\", \"charming\", \"check\", \"child\", \"choppy\", \"christian\", \"clearly\", \"college\", \"color\", \"com\", \"come\", \"come\", \"come\", \"concept\", \"confuse\", \"confusing\", \"connect\", \"consider\", \"continue\", \"convince\", \"convinced\", \"cool\", \"craft\", \"crap\", \"create\", \"culture\", \"dad\", \"daemon\", \"dark\", \"darker\", \"darrow\", \"daughter\", \"deadly\", \"dear\", \"death\", \"deeply\", \"definitely\", \"deliver\", \"description\", \"desire\", \"dialogue\", \"die\", \"die\", \"difference\", \"difficulty\", \"dilemma\", \"dimensional\", \"disappointing\", \"discover\", \"disney\", \"dog\", \"drag\", \"eat\", \"edge\", \"edit\", \"emotion\", \"emotional\", \"end\", \"ending\", \"enhance\", \"enjoy\", \"enjoy\", \"enjoyable\", \"entertain\", \"entertaining\", \"equally\", \"era\", \"este\", \"even\", \"even\", \"even\", \"extent\", \"factor\", \"fairly\", \"fairly\", \"fairy_tale\", \"faith\", \"fall\", \"fall\", \"family\", \"fantasy\", \"far\", \"fascinate\", \"father\", \"favorite\", \"favourite\", \"feature\", \"feel\", \"feel\", \"female_lead\", \"fight\", \"figure\", \"find\", \"find\", \"find\", \"finish\", \"fire\", \"first\", \"first\", \"flawed\", \"folk\", \"follow\", \"follow\", \"food\", \"forward\", \"free\", \"friend\", \"frustrated\", \"fuck\", \"full\", \"fun\", \"fun\", \"funny\", \"gasp\", \"gather\", \"genius\", \"get\", \"get\", \"gifted\", \"girl\", \"give\", \"give\", \"give\", \"glass\", \"go\", \"go\", \"god\", \"gold\", \"good\", \"good\", \"goodness\", \"goodread\", \"great\", \"great\", \"grow\", \"gut\", \"hair\", \"hand\", \"handsome\", \"happen\", \"happen\", \"hat\", \"hate\", \"heart\", \"heavy\", \"help\", \"hero\", \"hilarious\", \"historical\", \"home\", \"however\", \"however\", \"however\", \"human\", \"human\", \"humor\", \"humorous\", \"illustration\", \"immensely\", \"imprint\", \"improve\", \"info\", \"installment\", \"intense\", \"interaction\", \"introduction\", \"ist\", \"justice\", \"kick\", \"kill\", \"king\", \"know\", \"know\", \"kudo\", \"last\", \"lead\", \"learn\", \"learn\", \"least\", \"leave\", \"leave\", \"leer\", \"let\", \"let\", \"level\", \"life\", \"light\", \"like\", \"link\", \"listen\", \"little\", \"little\", \"live\", \"look\", \"look\", \"look\", \"lose\", \"lose\", \"lot\", \"loud\", \"love\", \"m\", \"magic\", \"main\", \"mainly\", \"major\", \"make\", \"make\", \"make\", \"man\", \"man\", \"many\", \"many\", \"many\", \"mark\", \"mate\", \"mature\", \"meet\", \"mess\", \"mind\", \"mind\", \"mind\", \"mission\", \"mode\", \"mom\", \"moral\", \"mostly\", \"move\", \"movie\", \"much\", \"multiple\", \"mystery\", \"mystical\", \"myth\", \"name\", \"narration\", \"necessarily\", \"nemesis\", \"never\", \"never\", \"new\", \"new\", \"next\", \"nice\", \"nicht\", \"novel\", \"obsess\", \"often\", \"original\", \"other\", \"overtly\", \"page_turner\", \"pain\", \"paint\", \"part\", \"part\", \"part\", \"pay\", \"people\", \"people\", \"percy\", \"perfect\", \"perfect\", \"perfectly\", \"perhaps\", \"person\", \"persona\", \"personality\", \"perspective\", \"pick\", \"place\", \"place\", \"play\", \"point\", \"point\", \"point\", \"politic\", \"por\", \"possibly\", \"post\", \"power\", \"pretty\", \"previously\", \"probably\", \"promise\", \"prose\", \"provide\", \"puede\", \"pull\", \"puzzle\", \"que\", \"race\", \"rather\", \"read\", \"read\", \"reader\", \"reading\", \"really\", \"recommend\", \"recommend\", \"resolve\", \"rest\", \"review\", \"review\", \"ridiculous\", \"rip\", \"romance\", \"romance\", \"run\", \"sad\", \"saga\", \"sage\", \"sarcasm\", \"satisfying\", \"save\", \"say\", \"say\", \"science_fiction\", \"screen\", \"second\", \"secondary_character\", \"see\", \"see\", \"sell\", \"sequel\", \"series\", \"servant\", \"set\", \"shake\", \"ship\", \"short\", \"short\", \"side\", \"slave\", \"slightly\", \"slowly\", \"snippet\", \"solo\", \"somehow\", \"somewhat\", \"somewhere\", \"soon\", \"spoiler_alert\", \"spot\", \"spread\", \"spring\", \"stage\", \"star\", \"start\", \"start\", \"still\", \"stomach\", \"story\", \"story\", \"storyline\", \"stuff\", \"substance\", \"suit\", \"sure\", \"suspenseful\", \"switch\", \"tad\", \"take\", \"take\", \"take\", \"tale\", \"tear\", \"tell\", \"tell\", \"tense\", \"terrify\", \"test\", \"thing\", \"thing\", \"think\", \"time\", \"time\", \"time\", \"torture\", \"trait\", \"trope\", \"true\", \"truth\", \"try\", \"try\", \"turn\", \"turn\", \"turn\", \"und\", \"unique\", \"unravel\", \"usually\", \"valuable\", \"vampire\", \"various\", \"visit\", \"voice\", \"wait\", \"want\", \"want\", \"war\", \"war\", \"water\", \"weight\", \"well\", \"well\", \"whole\", \"willing\", \"wing\", \"winter\", \"witty\", \"woman\", \"wonder\", \"wonderful\", \"wonderfully\", \"word\", \"work\", \"work\", \"world\", \"world_builde\", \"write\", \"write\", \"year\", \"year\", \"year\", \"zoe\"]}, \"R\": 30, \"lambda.step\": 0.01, \"plot.opts\": {\"xlab\": \"PC1\", \"ylab\": \"PC2\"}, \"topic.order\": [15, 1, 4, 8, 7, 6, 9, 2, 11, 13, 3, 20, 18, 16, 10, 14, 12, 17, 5, 19]};\n",
       "\n",
       "function LDAvis_load_lib(url, callback){\n",
       "  var s = document.createElement('script');\n",
       "  s.src = url;\n",
       "  s.async = true;\n",
       "  s.onreadystatechange = s.onload = callback;\n",
       "  s.onerror = function(){console.warn(\"failed to load library \" + url);};\n",
       "  document.getElementsByTagName(\"head\")[0].appendChild(s);\n",
       "}\n",
       "\n",
       "if(typeof(LDAvis) !== \"undefined\"){\n",
       "   // already loaded: just create the visualization\n",
       "   !function(LDAvis){\n",
       "       new LDAvis(\"#\" + \"ldavis_el16585115742747361373109667\", ldavis_el16585115742747361373109667_data);\n",
       "   }(LDAvis);\n",
       "}else if(typeof define === \"function\" && define.amd){\n",
       "   // require.js is available: use it to load d3/LDAvis\n",
       "   require.config({paths: {d3: \"https://d3js.org/d3.v5\"}});\n",
       "   require([\"d3\"], function(d3){\n",
       "      window.d3 = d3;\n",
       "      LDAvis_load_lib(\"https://cdn.jsdelivr.net/gh/bmabey/pyLDAvis@3.4.0/pyLDAvis/js/ldavis.v3.0.0.js\", function(){\n",
       "        new LDAvis(\"#\" + \"ldavis_el16585115742747361373109667\", ldavis_el16585115742747361373109667_data);\n",
       "      });\n",
       "    });\n",
       "}else{\n",
       "    // require.js not available: dynamically load d3 & LDAvis\n",
       "    LDAvis_load_lib(\"https://d3js.org/d3.v5.js\", function(){\n",
       "         LDAvis_load_lib(\"https://cdn.jsdelivr.net/gh/bmabey/pyLDAvis@3.4.0/pyLDAvis/js/ldavis.v3.0.0.js\", function(){\n",
       "                 new LDAvis(\"#\" + \"ldavis_el16585115742747361373109667\", ldavis_el16585115742747361373109667_data);\n",
       "            })\n",
       "         });\n",
       "}\n",
       "</script>"
      ],
      "text/plain": [
       "PreparedData(topic_coordinates=              x         y  topics  cluster       Freq\n",
       "topic                                                \n",
       "14    -0.459262 -0.112981       1        1  46.347743\n",
       "0     -0.394802  0.338797       2        1  23.057135\n",
       "3     -0.414137 -0.220796       3        1  22.052602\n",
       "7     -0.058097  0.053899       4        1   2.124865\n",
       "6     -0.016461  0.009431       5        1   1.514674\n",
       "5      0.000574  0.003313       6        1   1.301299\n",
       "8      0.019547 -0.011052       7        1   1.102197\n",
       "1      0.052784 -0.004886       8        1   0.690787\n",
       "10     0.082106 -0.006052       9        1   0.455882\n",
       "12     0.098469 -0.005710      10        1   0.273985\n",
       "2      0.100983 -0.005586      11        1   0.236210\n",
       "19     0.105070 -0.005265      12        1   0.206786\n",
       "17     0.104439 -0.005309      13        1   0.147396\n",
       "15     0.109071 -0.004718      14        1   0.129789\n",
       "9      0.108786 -0.004769      15        1   0.125599\n",
       "13     0.108257 -0.004855      16        1   0.122841\n",
       "11     0.111279 -0.004254      17        1   0.068092\n",
       "16     0.113636 -0.003225      18        1   0.025056\n",
       "4      0.113879 -0.002991      19        1   0.008668\n",
       "18     0.113879 -0.002991      20        1   0.008394, topic_info=        Term        Freq         Total Category  logprob  loglift\n",
       "13      book  23552.0000  23552.000000  Default  30.0000  30.0000\n",
       "170    story   9744.0000   9744.000000  Default  29.0000  29.0000\n",
       "31      read  11531.0000  11531.000000  Default  28.0000  28.0000\n",
       "117     love   7362.0000   7362.000000  Default  27.0000  27.0000\n",
       "144   really   6804.0000   6804.000000  Default  26.0000  26.0000\n",
       "..       ...         ...           ...      ...      ...      ...\n",
       "25      look      0.0015   1408.421431  Topic20 -10.3113  -4.3675\n",
       "26    mostly      0.0015    343.072282  Topic20 -10.3113  -2.9552\n",
       "27      nice      0.0015    492.082480  Topic20 -10.3113  -3.3159\n",
       "28   perfect      0.0015    650.282053  Topic20 -10.3113  -3.5947\n",
       "29    pretty      0.0015    979.992635  Topic20 -10.3113  -4.0048\n",
       "\n",
       "[918 rows x 6 columns], token_table=      Topic      Freq        Term\n",
       "term                             \n",
       "567       3  0.999362        able\n",
       "1056     16  0.936499    absolute\n",
       "1057      4  0.998406  absolutely\n",
       "701       1  0.168380      action\n",
       "701       2  0.831118      action\n",
       "...     ...       ...         ...\n",
       "36        2  0.365914       write\n",
       "256       1  0.016482        year\n",
       "256       2  0.064898        year\n",
       "256       3  0.917837        year\n",
       "1055     12  0.862405         zoe\n",
       "\n",
       "[473 rows x 3 columns], R=30, lambda_step=0.01, plot_opts={'xlab': 'PC1', 'ylab': 'PC2'}, topic_order=[15, 1, 4, 8, 7, 6, 9, 2, 11, 13, 3, 20, 18, 16, 10, 14, 12, 17, 5, 19])"
      ]
     },
     "execution_count": 23,
     "metadata": {},
     "output_type": "execute_result"
    }
   ],
   "source": [
    "# Visualize the topics\n",
    "pyLDAvis.enable_notebook()\n",
    "vis = gensimvis.prepare(lda_model, corpus, id2word)\n",
    "vis"
   ]
  },
  {
   "cell_type": "code",
   "execution_count": 27,
   "metadata": {},
   "outputs": [],
   "source": [
    "pyLDAvis.save_html(vis, 'lda.html')"
   ]
  },
  {
   "cell_type": "code",
   "execution_count": null,
   "metadata": {},
   "outputs": [],
   "source": []
  }
 ],
 "metadata": {
  "kernelspec": {
   "display_name": "Python 3 (ipykernel)",
   "language": "python",
   "name": "python3"
  },
  "language_info": {
   "codemirror_mode": {
    "name": "ipython",
    "version": 3
   },
   "file_extension": ".py",
   "mimetype": "text/x-python",
   "name": "python",
   "nbconvert_exporter": "python",
   "pygments_lexer": "ipython3",
   "version": "3.11.5"
  }
 },
 "nbformat": 4,
 "nbformat_minor": 4
}
